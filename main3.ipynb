{
 "cells": [
  {
   "cell_type": "code",
   "execution_count": 1,
   "id": "0f99f7cf-ef53-4ca7-9805-f2ff19d800b3",
   "metadata": {},
   "outputs": [
    {
     "data": {
      "text/plain": [
       "['preserve_unused_tokens=False']"
      ]
     },
     "execution_count": 1,
     "metadata": {},
     "output_type": "execute_result"
    }
   ],
   "source": [
    "import sys\n",
    "from absl import flags\n",
    "sys.argv=['preserve_unused_tokens=False']\n",
    "flags.FLAGS(sys.argv)"
   ]
  },
  {
   "cell_type": "code",
   "execution_count": 2,
   "id": "b248a9fe-52f4-4613-a06d-b99431acf6b5",
   "metadata": {},
   "outputs": [
    {
     "name": "stdout",
     "output_type": "stream",
     "text": [
      "Requirement already satisfied: bert-tensorflow in c:\\users\\yasir\\anaconda3\\lib\\site-packages (1.0.4)\n",
      "Requirement already satisfied: six in c:\\users\\yasir\\anaconda3\\lib\\site-packages (from bert-tensorflow) (1.16.0)\n",
      "Note: you may need to restart the kernel to use updated packages.\n"
     ]
    }
   ],
   "source": [
    "pip install bert-tensorflow"
   ]
  },
  {
   "cell_type": "code",
   "execution_count": 3,
   "id": "ae70c60f-d137-4080-87e5-5d79b0bd4cf0",
   "metadata": {},
   "outputs": [],
   "source": [
    "# Downloading tokenization script created by the Google\n",
    "!wget --quiet https://raw.githubusercontent.com/tensorflow/models/master/official/nlp/bert/tokenization.py"
   ]
  },
  {
   "cell_type": "code",
   "execution_count": 4,
   "id": "6490e20a-9f71-4a49-a7a6-574d8e9da588",
   "metadata": {},
   "outputs": [],
   "source": [
    "import numpy as np\n",
    "import pandas as pd\n",
    "import tensorflow as tf\n",
    "from tensorflow.keras.layers import Dense, Input, Dropout\n",
    "from tensorflow.keras.optimizers import Adam\n",
    "from tensorflow.keras.models import Model\n",
    "from tensorflow.keras.callbacks import ModelCheckpoint\n",
    "import tensorflow_hub as hub\n",
    "from sklearn.model_selection import train_test_split\n",
    "\n",
    "from bert import tokenization"
   ]
  },
  {
   "cell_type": "code",
   "execution_count": 6,
   "id": "872af0a8-d31b-44ec-a1dd-4d65dfd138d4",
   "metadata": {},
   "outputs": [],
   "source": [
    "img_feature = np.load('Image_Embeddings/Emb_feature/new_test_features/.npy')\n",
    "np.shape(img_feature)"
   ]
  },
  {
   "cell_type": "code",
   "execution_count": null,
   "id": "a37ac502-2e60-42a0-880c-f4f556e8c338",
   "metadata": {},
   "outputs": [
    {
     "name": "stdout",
     "output_type": "stream",
     "text": [
      "In the picture man in black and white cap is holding up sign . And the text says: its their character not their color that matters \n",
      "\n",
      "\n",
      "8313\n"
     ]
    }
   ],
   "source": [
    "FMS = pd.read_csv(\"FMS_final.csv\")\n",
    "FMS['textNdesc'] = 'In the picture '+ FMS.gen_caption + ' And the text says: ' + FMS.text\n",
    "print(FMS.textNdesc[0], '\\n\\n')\n",
    "print(len(FMS))"
   ]
  },
  {
   "cell_type": "code",
   "execution_count": 5,
   "id": "efad3fee",
   "metadata": {},
   "outputs": [
    {
     "data": {
      "text/plain": [
       "(494, 100, 1024)"
      ]
     },
     "execution_count": 5,
     "metadata": {},
     "output_type": "execute_result"
    }
   ],
   "source": [
    "dev_img_feature = np.load('Image_Embeddings/Emb_feature/dev_test_features/final_images.npy')\n",
    "np.shape(dev_img_feature)"
   ]
  },
  {
   "cell_type": "code",
   "execution_count": 6,
   "id": "70a5382b",
   "metadata": {},
   "outputs": [
    {
     "name": "stdout",
     "output_type": "stream",
     "text": [
      "In the picture man in blue shirt and white shirt is standing in front of store . And the text says: voila! fresh batch of baked goods ! \n",
      "\n",
      "\n",
      "494\n"
     ]
    }
   ],
   "source": [
    "dev_FMS = pd.read_csv(\"FMS_final_dev.csv\")\n",
    "dev_FMS['textNdesc'] = 'In the picture '+ dev_FMS.gen_caption + ' And the text says: ' + dev_FMS.text\n",
    "print(dev_FMS.textNdesc[0], '\\n\\n')\n",
    "print(len(dev_FMS))"
   ]
  },
  {
   "cell_type": "code",
   "execution_count": 7,
   "id": "80c59637-a90e-4cd5-90d7-302ff712fb61",
   "metadata": {},
   "outputs": [],
   "source": [
    "def bert_encode(texts, tokenizer, max_len=512):\n",
    "    all_tokens = []\n",
    "    all_masks = []\n",
    "    all_segments = []\n",
    "    \n",
    "    for text in texts:\n",
    "        text = tokenizer.tokenize(text)\n",
    "            \n",
    "        text = text[:max_len-2]\n",
    "        input_sequence = [\"[CLS]\"] + text + [\"[SEP]\"]\n",
    "        pad_len = max_len - len(input_sequence)\n",
    "        \n",
    "        tokens = tokenizer.convert_tokens_to_ids(input_sequence)\n",
    "        tokens += [0] * pad_len\n",
    "        pad_masks = [1] * len(input_sequence) + [0] * pad_len\n",
    "        segment_ids = [0] * max_len\n",
    "        \n",
    "        all_tokens.append(tokens)\n",
    "        all_masks.append(pad_masks)\n",
    "        all_segments.append(segment_ids)\n",
    "    \n",
    "    return np.array(all_tokens), np.array(all_masks), np.array(all_segments)"
   ]
  },
  {
   "cell_type": "code",
   "execution_count": 8,
   "id": "f9114b28-199a-4be3-8fc4-83032ebc9fd3",
   "metadata": {},
   "outputs": [],
   "source": [
    "def build_model(bert_layer, max_len=512):\n",
    "    input_word_ids = Input(shape=(max_len,), dtype=tf.int32, name=\"input_word_ids\")\n",
    "    input_mask = Input(shape=(max_len,), dtype=tf.int32, name=\"input_mask\")\n",
    "    segment_ids = Input(shape=(max_len,), dtype=tf.int32, name=\"segment_ids\")\n",
    "\n",
    "    image_input = tf.keras.Input(\n",
    "    shape=(100,1024),\n",
    "    batch_size=None,\n",
    "    name=\"image_input\",\n",
    ")\n",
    "\n",
    "    _, sequence_output = bert_layer([input_word_ids, input_mask, segment_ids])\n",
    "\n",
    "\n",
    "    \n",
    "\n",
    "    concatted = tf.keras.layers.Concatenate(axis = 1)([sequence_output, image_input])\n",
    "\n",
    "\n",
    "    clf_output = concatted[:, 0, :]\n",
    "\n",
    "    hidden_layer1 = Dense(1024, activation='relu')(clf_output)\n",
    "    Dropout_layer1 = Dropout(.2)(hidden_layer1)\n",
    "\n",
    "    hidden_layer2 = Dense(2048, activation='relu')(Dropout_layer1)\n",
    "    Dropout_layer2 = Dropout(.3)(hidden_layer2)\n",
    "\n",
    "    hidden_layer3 = Dense(1024, activation='relu')(Dropout_layer2)\n",
    "    Dropout_layer3 = Dropout(.2)(hidden_layer3)\n",
    "    \n",
    "\n",
    "    # concatted = tf.keras.layers.Concatenate()([clf_output, image_input])\n",
    "\n",
    "    out = Dense(1, activation='sigmoid')(Dropout_layer3)\n",
    "    \n",
    "    model = Model(inputs=[input_word_ids, input_mask, segment_ids, image_input], outputs=out)\n",
    "    model.compile(Adam(lr=1e-5), loss='binary_crossentropy', metrics=['accuracy', 'AUC'])\n",
    "    \n",
    "    return model"
   ]
  },
  {
   "cell_type": "code",
   "execution_count": 9,
   "id": "18f42108-10b6-4c02-b3b5-7c2c1ddc1925",
   "metadata": {},
   "outputs": [
    {
     "name": "stdout",
     "output_type": "stream",
     "text": [
      "WARNING:tensorflow:Please fix your imports. Module tensorflow.python.training.tracking.data_structures has been moved to tensorflow.python.trackable.data_structures. The old module will be deleted in version 2.11.\n",
      "Wall time: 14.6 s\n"
     ]
    }
   ],
   "source": [
    "%%time\n",
    "module_url = \"https://tfhub.dev/tensorflow/bert_en_uncased_L-24_H-1024_A-16/1\"\n",
    "bert_layer = hub.KerasLayer(module_url, trainable=False)"
   ]
  },
  {
   "cell_type": "code",
   "execution_count": 10,
   "id": "3a49f966-31bd-4c46-a35c-893c54de6378",
   "metadata": {},
   "outputs": [],
   "source": [
    "vocab_file = bert_layer.resolved_object.vocab_file.asset_path.numpy()\n",
    "do_lower_case = bert_layer.resolved_object.do_lower_case.numpy()\n",
    "tokenizer = tokenization.FullTokenizer(vocab_file, do_lower_case)"
   ]
  },
  {
   "cell_type": "code",
   "execution_count": 12,
   "id": "4298f21d-248b-442e-ae40-4f4950321dca",
   "metadata": {},
   "outputs": [],
   "source": [
    "train_input = bert_encode(dev_FMS.textNdesc.values, tokenizer, max_len=100)\n",
    "train_labels = dev_FMS.label.values"
   ]
  },
  {
   "cell_type": "code",
   "execution_count": 13,
   "id": "f30577d1",
   "metadata": {},
   "outputs": [],
   "source": [
    "test_input = bert_encode(dev_FMS.textNdesc.values, tokenizer, max_len=160)\n",
    "test_labels = dev_FMS.label.values"
   ]
  },
  {
   "cell_type": "code",
   "execution_count": 17,
   "id": "3fe0b334-f6e1-4bda-a8e7-7a4ba8703aba",
   "metadata": {},
   "outputs": [
    {
     "name": "stdout",
     "output_type": "stream",
     "text": [
      "Model: \"model_1\"\n",
      "__________________________________________________________________________________________________\n",
      " Layer (type)                   Output Shape         Param #     Connected to                     \n",
      "==================================================================================================\n",
      " input_word_ids (InputLayer)    [(None, 160)]        0           []                               \n",
      "                                                                                                  \n",
      " input_mask (InputLayer)        [(None, 160)]        0           []                               \n",
      "                                                                                                  \n",
      " segment_ids (InputLayer)       [(None, 160)]        0           []                               \n",
      "                                                                                                  \n",
      " keras_layer (KerasLayer)       multiple             335141889   ['input_word_ids[0][0]',         \n",
      "                                                                  'input_mask[0][0]',             \n",
      "                                                                  'segment_ids[0][0]']            \n",
      "                                                                                                  \n",
      " image_input (InputLayer)       [(None, 100, 1024)]  0           []                               \n",
      "                                                                                                  \n",
      " concatenate_1 (Concatenate)    (None, 260, 1024)    0           ['keras_layer[1][1]',            \n",
      "                                                                  'image_input[0][0]']            \n",
      "                                                                                                  \n",
      " tf.__operators__.getitem_1 (Sl  (None, 1024)        0           ['concatenate_1[0][0]']          \n",
      " icingOpLambda)                                                                                   \n",
      "                                                                                                  \n",
      " dense_4 (Dense)                (None, 1024)         1049600     ['tf.__operators__.getitem_1[0][0\n",
      "                                                                 ]']                              \n",
      "                                                                                                  \n",
      " dropout_3 (Dropout)            (None, 1024)         0           ['dense_4[0][0]']                \n",
      "                                                                                                  \n",
      " dense_5 (Dense)                (None, 2048)         2099200     ['dropout_3[0][0]']              \n",
      "                                                                                                  \n",
      " dropout_4 (Dropout)            (None, 2048)         0           ['dense_5[0][0]']                \n",
      "                                                                                                  \n",
      " dense_6 (Dense)                (None, 1024)         2098176     ['dropout_4[0][0]']              \n",
      "                                                                                                  \n",
      " dropout_5 (Dropout)            (None, 1024)         0           ['dense_6[0][0]']                \n",
      "                                                                                                  \n",
      " dense_7 (Dense)                (None, 1)            1025        ['dropout_5[0][0]']              \n",
      "                                                                                                  \n",
      "==================================================================================================\n",
      "Total params: 340,389,890\n",
      "Trainable params: 5,248,001\n",
      "Non-trainable params: 335,141,889\n",
      "__________________________________________________________________________________________________\n"
     ]
    },
    {
     "name": "stderr",
     "output_type": "stream",
     "text": [
      "c:\\Users\\yasir\\anaconda3\\lib\\site-packages\\keras\\optimizers\\optimizer_v2\\adam.py:114: UserWarning: The `lr` argument is deprecated, use `learning_rate` instead.\n",
      "  super().__init__(name, **kwargs)\n"
     ]
    }
   ],
   "source": [
    "model = build_model(bert_layer, max_len=160)\n",
    "model.summary()"
   ]
  },
  {
   "cell_type": "code",
   "execution_count": 13,
   "id": "ad855c8a-f298-45ab-8c81-58e8b75d6d13",
   "metadata": {},
   "outputs": [
    {
     "name": "stdout",
     "output_type": "stream",
     "text": [
      "Epoch 1/200\n",
      "12/12 [==============================] - 1216s 104s/step - loss: 0.6799 - accuracy: 0.5892 - auc: 0.4798 - val_loss: 0.6963 - val_accuracy: 0.6055 - val_auc: 0.4512\n",
      "Epoch 2/200\n",
      "12/12 [==============================] - 1124s 99s/step - loss: 0.6592 - accuracy: 0.6510 - auc: 0.5024 - val_loss: 0.6853 - val_accuracy: 0.6055 - val_auc: 0.5081\n",
      "Epoch 3/200\n",
      "12/12 [==============================] - 1116s 98s/step - loss: 0.6549 - accuracy: 0.6400 - auc: 0.5273 - val_loss: 0.6676 - val_accuracy: 0.6055 - val_auc: 0.5974\n",
      "Epoch 4/200\n",
      "12/12 [==============================] - 1081s 95s/step - loss: 0.6425 - accuracy: 0.6687 - auc: 0.5068 - val_loss: 0.6720 - val_accuracy: 0.6055 - val_auc: 0.6302\n",
      "Epoch 5/200\n",
      "12/12 [==============================] - 1175s 104s/step - loss: 0.6456 - accuracy: 0.6517 - auc: 0.5387 - val_loss: 0.6673 - val_accuracy: 0.6055 - val_auc: 0.6491\n",
      "Epoch 6/200\n",
      "12/12 [==============================] - 1473s 129s/step - loss: 0.6419 - accuracy: 0.6576 - auc: 0.5435 - val_loss: 0.6603 - val_accuracy: 0.6055 - val_auc: 0.6623\n",
      "Epoch 7/200\n",
      "12/12 [==============================] - 1196s 105s/step - loss: 0.6355 - accuracy: 0.6530 - auc: 0.5884 - val_loss: 0.6547 - val_accuracy: 0.6055 - val_auc: 0.6689\n",
      "Epoch 8/200\n",
      "12/12 [==============================] - 1081s 95s/step - loss: 0.6240 - accuracy: 0.6755 - auc: 0.5861 - val_loss: 0.6589 - val_accuracy: 0.6055 - val_auc: 0.6750\n",
      "Epoch 9/200\n",
      "12/12 [==============================] - 1103s 97s/step - loss: 0.6311 - accuracy: 0.6647 - auc: 0.5780 - val_loss: 0.6551 - val_accuracy: 0.6055 - val_auc: 0.6778\n",
      "Epoch 10/200\n",
      "12/12 [==============================] - 1119s 99s/step - loss: 0.6320 - accuracy: 0.6556 - auc: 0.6015 - val_loss: 0.6441 - val_accuracy: 0.6095 - val_auc: 0.6791\n",
      "Epoch 11/200\n",
      "12/12 [==============================] - 1112s 98s/step - loss: 0.6360 - accuracy: 0.6549 - auc: 0.5913 - val_loss: 0.6421 - val_accuracy: 0.6123 - val_auc: 0.6834\n",
      "Epoch 12/200\n",
      "12/12 [==============================] - 1083s 95s/step - loss: 0.6182 - accuracy: 0.6755 - auc: 0.6044 - val_loss: 0.6475 - val_accuracy: 0.6047 - val_auc: 0.6881\n",
      "Epoch 13/200\n",
      "12/12 [==============================] - 1119s 99s/step - loss: 0.6231 - accuracy: 0.6530 - auc: 0.6349 - val_loss: 0.6398 - val_accuracy: 0.6127 - val_auc: 0.6900\n",
      "Epoch 14/200\n",
      "12/12 [==============================] - 1111s 98s/step - loss: 0.6332 - accuracy: 0.6478 - auc: 0.5983 - val_loss: 0.6337 - val_accuracy: 0.6275 - val_auc: 0.6914\n",
      "Epoch 15/200\n",
      "12/12 [==============================] - 1111s 98s/step - loss: 0.6301 - accuracy: 0.6530 - auc: 0.6175 - val_loss: 0.6334 - val_accuracy: 0.6239 - val_auc: 0.6950\n",
      "Epoch 16/200\n",
      "12/12 [==============================] - 1081s 95s/step - loss: 0.6224 - accuracy: 0.6646 - auc: 0.6128 - val_loss: 0.6429 - val_accuracy: 0.6079 - val_auc: 0.6992\n",
      "Epoch 17/200\n",
      "12/12 [==============================] - 1109s 98s/step - loss: 0.6076 - accuracy: 0.6719 - auc: 0.6605 - val_loss: 0.6306 - val_accuracy: 0.6299 - val_auc: 0.7004\n",
      "Epoch 18/200\n",
      "12/12 [==============================] - 1099s 97s/step - loss: 0.6189 - accuracy: 0.6745 - auc: 0.6152 - val_loss: 0.6350 - val_accuracy: 0.6179 - val_auc: 0.7021\n",
      "Epoch 19/200\n",
      "12/12 [==============================] - 1111s 98s/step - loss: 0.6247 - accuracy: 0.6589 - auc: 0.6238 - val_loss: 0.6270 - val_accuracy: 0.6367 - val_auc: 0.7036\n",
      "Epoch 20/200\n",
      "12/12 [==============================] - 1083s 95s/step - loss: 0.6019 - accuracy: 0.6769 - auc: 0.6685 - val_loss: 0.6340 - val_accuracy: 0.6195 - val_auc: 0.7054\n",
      "Epoch 21/200\n",
      "12/12 [==============================] - 1111s 98s/step - loss: 0.6059 - accuracy: 0.6895 - auc: 0.6473 - val_loss: 0.6257 - val_accuracy: 0.6379 - val_auc: 0.7063\n",
      "Epoch 22/200\n",
      "12/12 [==============================] - 1120s 99s/step - loss: 0.6161 - accuracy: 0.6634 - auc: 0.6511 - val_loss: 0.6218 - val_accuracy: 0.6472 - val_auc: 0.7072\n",
      "Epoch 23/200\n",
      "12/12 [==============================] - 1096s 96s/step - loss: 0.6111 - accuracy: 0.6673 - auc: 0.6518 - val_loss: 0.6212 - val_accuracy: 0.6500 - val_auc: 0.7086\n",
      "Epoch 24/200\n",
      "12/12 [==============================] - 1108s 98s/step - loss: 0.6060 - accuracy: 0.6816 - auc: 0.6639 - val_loss: 0.6178 - val_accuracy: 0.6552 - val_auc: 0.7090\n",
      "Epoch 25/200\n",
      "12/12 [==============================] - 1102s 97s/step - loss: 0.6026 - accuracy: 0.6914 - auc: 0.6597 - val_loss: 0.6257 - val_accuracy: 0.6407 - val_auc: 0.7100\n",
      "Epoch 26/200\n",
      "12/12 [==============================] - 1112s 98s/step - loss: 0.6125 - accuracy: 0.6621 - auc: 0.6636 - val_loss: 0.6156 - val_accuracy: 0.6584 - val_auc: 0.7102\n",
      "Epoch 27/200\n",
      "12/12 [==============================] - 1091s 96s/step - loss: 0.5937 - accuracy: 0.6898 - auc: 0.6862 - val_loss: 0.6169 - val_accuracy: 0.6580 - val_auc: 0.7118\n",
      "Epoch 28/200\n",
      "12/12 [==============================] - 1159s 102s/step - loss: 0.6147 - accuracy: 0.6680 - auc: 0.6635 - val_loss: 0.6148 - val_accuracy: 0.6600 - val_auc: 0.7126\n",
      "Epoch 29/200\n",
      "12/12 [==============================] - 1114s 98s/step - loss: 0.5985 - accuracy: 0.6849 - auc: 0.6797 - val_loss: 0.6144 - val_accuracy: 0.6604 - val_auc: 0.7133\n",
      "Epoch 30/200\n",
      "12/12 [==============================] - 1095s 96s/step - loss: 0.5962 - accuracy: 0.6895 - auc: 0.6614 - val_loss: 0.6188 - val_accuracy: 0.6544 - val_auc: 0.7140\n",
      "Epoch 31/200\n",
      "12/12 [==============================] - 1090s 96s/step - loss: 0.6101 - accuracy: 0.6885 - auc: 0.6484 - val_loss: 0.6134 - val_accuracy: 0.6632 - val_auc: 0.7151\n",
      "Epoch 32/200\n",
      "12/12 [==============================] - 1105s 97s/step - loss: 0.6139 - accuracy: 0.6549 - auc: 0.6763 - val_loss: 0.6056 - val_accuracy: 0.6796 - val_auc: 0.7156\n",
      "Epoch 33/200\n",
      "12/12 [==============================] - 1091s 96s/step - loss: 0.6059 - accuracy: 0.6732 - auc: 0.6512 - val_loss: 0.6130 - val_accuracy: 0.6624 - val_auc: 0.7170\n",
      "Epoch 34/200\n",
      "12/12 [==============================] - 1092s 96s/step - loss: 0.5912 - accuracy: 0.6862 - auc: 0.6829 - val_loss: 0.6210 - val_accuracy: 0.6516 - val_auc: 0.7174\n",
      "Epoch 35/200\n",
      "12/12 [==============================] - 1089s 96s/step - loss: 0.5997 - accuracy: 0.6646 - auc: 0.6856 - val_loss: 0.6023 - val_accuracy: 0.6832 - val_auc: 0.7180\n",
      "Epoch 36/200\n",
      "12/12 [==============================] - 1092s 96s/step - loss: 0.5875 - accuracy: 0.6979 - auc: 0.6914 - val_loss: 0.6146 - val_accuracy: 0.6608 - val_auc: 0.7185\n",
      "Epoch 37/200\n",
      "12/12 [==============================] - 1092s 96s/step - loss: 0.5977 - accuracy: 0.6901 - auc: 0.6744 - val_loss: 0.6123 - val_accuracy: 0.6632 - val_auc: 0.7189\n",
      "Epoch 38/200\n",
      "12/12 [==============================] - 1108s 98s/step - loss: 0.5957 - accuracy: 0.6816 - auc: 0.6899 - val_loss: 0.6001 - val_accuracy: 0.6852 - val_auc: 0.7198\n",
      "Epoch 39/200\n",
      "12/12 [==============================] - 1076s 95s/step - loss: 0.5985 - accuracy: 0.6864 - auc: 0.6814 - val_loss: 0.6087 - val_accuracy: 0.6700 - val_auc: 0.7209\n",
      "Epoch 40/200\n",
      "12/12 [==============================] - 1095s 96s/step - loss: 0.5795 - accuracy: 0.6992 - auc: 0.6900 - val_loss: 0.6141 - val_accuracy: 0.6616 - val_auc: 0.7217\n",
      "Epoch 41/200\n",
      "12/12 [==============================] - 1109s 98s/step - loss: 0.5976 - accuracy: 0.6849 - auc: 0.6837 - val_loss: 0.5970 - val_accuracy: 0.6909 - val_auc: 0.7224\n",
      "Epoch 42/200\n",
      "12/12 [==============================] - 1094s 96s/step - loss: 0.6044 - accuracy: 0.6810 - auc: 0.6787 - val_loss: 0.6052 - val_accuracy: 0.6784 - val_auc: 0.7234\n",
      "Epoch 43/200\n",
      "12/12 [==============================] - 1076s 95s/step - loss: 0.5885 - accuracy: 0.6878 - auc: 0.7042 - val_loss: 0.5997 - val_accuracy: 0.6901 - val_auc: 0.7238\n",
      "Epoch 44/200\n",
      "12/12 [==============================] - 1096s 96s/step - loss: 0.5780 - accuracy: 0.7064 - auc: 0.7034 - val_loss: 0.6010 - val_accuracy: 0.6885 - val_auc: 0.7243\n",
      "Epoch 45/200\n",
      "12/12 [==============================] - 1118s 98s/step - loss: 0.5851 - accuracy: 0.6868 - auc: 0.6944 - val_loss: 0.6043 - val_accuracy: 0.6804 - val_auc: 0.7252\n",
      "Epoch 46/200\n",
      "12/12 [==============================] - 1096s 96s/step - loss: 0.6025 - accuracy: 0.6776 - auc: 0.6793 - val_loss: 0.6010 - val_accuracy: 0.6868 - val_auc: 0.7256\n",
      "Epoch 47/200\n",
      "12/12 [==============================] - 1133s 100s/step - loss: 0.6019 - accuracy: 0.6797 - auc: 0.6777 - val_loss: 0.5952 - val_accuracy: 0.6957 - val_auc: 0.7262\n",
      "Epoch 48/200\n",
      "12/12 [==============================] - 1112s 98s/step - loss: 0.5953 - accuracy: 0.6888 - auc: 0.6877 - val_loss: 0.6020 - val_accuracy: 0.6824 - val_auc: 0.7264\n",
      "Epoch 49/200\n",
      "12/12 [==============================] - 1085s 95s/step - loss: 0.5716 - accuracy: 0.6960 - auc: 0.7185 - val_loss: 0.6006 - val_accuracy: 0.6824 - val_auc: 0.7266\n",
      "Epoch 50/200\n",
      "12/12 [==============================] - 1076s 95s/step - loss: 0.5842 - accuracy: 0.6960 - auc: 0.7018 - val_loss: 0.5983 - val_accuracy: 0.6877 - val_auc: 0.7274\n",
      "Epoch 51/200\n",
      "12/12 [==============================] - 1108s 98s/step - loss: 0.5874 - accuracy: 0.7012 - auc: 0.7104 - val_loss: 0.5909 - val_accuracy: 0.6989 - val_auc: 0.7284\n",
      "Epoch 52/200\n",
      "12/12 [==============================] - 1087s 96s/step - loss: 0.5896 - accuracy: 0.6895 - auc: 0.6928 - val_loss: 0.6134 - val_accuracy: 0.6640 - val_auc: 0.7286\n",
      "Epoch 53/200\n",
      "12/12 [==============================] - 1130s 100s/step - loss: 0.5840 - accuracy: 0.6966 - auc: 0.6912 - val_loss: 0.5967 - val_accuracy: 0.6929 - val_auc: 0.7294\n",
      "Epoch 54/200\n",
      "12/12 [==============================] - 1071s 94s/step - loss: 0.5800 - accuracy: 0.7048 - auc: 0.7094 - val_loss: 0.5928 - val_accuracy: 0.6965 - val_auc: 0.7301\n",
      "Epoch 55/200\n",
      "12/12 [==============================] - 1091s 96s/step - loss: 0.5791 - accuracy: 0.6953 - auc: 0.7142 - val_loss: 0.5947 - val_accuracy: 0.6965 - val_auc: 0.7304\n",
      "Epoch 56/200\n",
      "12/12 [==============================] - 1107s 97s/step - loss: 0.5899 - accuracy: 0.6953 - auc: 0.7030 - val_loss: 0.5907 - val_accuracy: 0.6997 - val_auc: 0.7311\n",
      "Epoch 57/200\n",
      "12/12 [==============================] - 1095s 96s/step - loss: 0.5546 - accuracy: 0.7168 - auc: 0.7402 - val_loss: 0.6068 - val_accuracy: 0.6740 - val_auc: 0.7315\n",
      "Epoch 58/200\n",
      "12/12 [==============================] - 1084s 95s/step - loss: 0.5954 - accuracy: 0.6926 - auc: 0.6833 - val_loss: 0.5958 - val_accuracy: 0.6889 - val_auc: 0.7322\n",
      "Epoch 59/200\n",
      "12/12 [==============================] - 1098s 97s/step - loss: 0.5587 - accuracy: 0.7155 - auc: 0.7329 - val_loss: 0.5934 - val_accuracy: 0.6957 - val_auc: 0.7328\n",
      "Epoch 60/200\n",
      "12/12 [==============================] - 1103s 97s/step - loss: 0.5842 - accuracy: 0.6947 - auc: 0.7088 - val_loss: 0.5920 - val_accuracy: 0.6949 - val_auc: 0.7330\n",
      "Epoch 61/200\n",
      "12/12 [==============================] - 1116s 98s/step - loss: 0.5942 - accuracy: 0.6849 - auc: 0.6914 - val_loss: 0.5899 - val_accuracy: 0.6997 - val_auc: 0.7335\n",
      "Epoch 62/200\n",
      "12/12 [==============================] - 1084s 95s/step - loss: 0.5807 - accuracy: 0.6926 - auc: 0.7053 - val_loss: 0.5911 - val_accuracy: 0.6961 - val_auc: 0.7340\n",
      "Epoch 63/200\n",
      "12/12 [==============================] - 1101s 97s/step - loss: 0.5685 - accuracy: 0.7090 - auc: 0.7330 - val_loss: 0.5911 - val_accuracy: 0.6949 - val_auc: 0.7344\n",
      "Epoch 64/200\n",
      "12/12 [==============================] - 1115s 98s/step - loss: 0.5755 - accuracy: 0.7122 - auc: 0.7186 - val_loss: 0.5887 - val_accuracy: 0.7013 - val_auc: 0.7351\n",
      "Epoch 65/200\n",
      "12/12 [==============================] - 1131s 100s/step - loss: 0.5810 - accuracy: 0.6868 - auc: 0.7087 - val_loss: 0.5909 - val_accuracy: 0.6969 - val_auc: 0.7349\n",
      "Epoch 66/200\n",
      "12/12 [==============================] - 1111s 98s/step - loss: 0.5720 - accuracy: 0.7089 - auc: 0.7168 - val_loss: 0.5884 - val_accuracy: 0.7041 - val_auc: 0.7354\n",
      "Epoch 67/200\n",
      "12/12 [==============================] - 1104s 97s/step - loss: 0.5645 - accuracy: 0.7064 - auc: 0.7295 - val_loss: 0.5944 - val_accuracy: 0.6929 - val_auc: 0.7347\n",
      "Epoch 68/200\n",
      "12/12 [==============================] - 1208s 107s/step - loss: 0.5780 - accuracy: 0.7031 - auc: 0.7153 - val_loss: 0.5855 - val_accuracy: 0.7053 - val_auc: 0.7353\n",
      "Epoch 69/200\n",
      "12/12 [==============================] - 1143s 101s/step - loss: 0.5697 - accuracy: 0.7076 - auc: 0.7213 - val_loss: 0.5958 - val_accuracy: 0.6893 - val_auc: 0.7360\n",
      "Epoch 70/200\n",
      "12/12 [==============================] - 1149s 101s/step - loss: 0.5612 - accuracy: 0.7246 - auc: 0.7402 - val_loss: 0.5865 - val_accuracy: 0.7033 - val_auc: 0.7366\n",
      "Epoch 71/200\n",
      "12/12 [==============================] - 1103s 97s/step - loss: 0.5793 - accuracy: 0.6914 - auc: 0.7091 - val_loss: 0.5890 - val_accuracy: 0.7009 - val_auc: 0.7372\n",
      "Epoch 72/200\n",
      "12/12 [==============================] - 1116s 98s/step - loss: 0.5735 - accuracy: 0.7083 - auc: 0.7216 - val_loss: 0.5843 - val_accuracy: 0.7053 - val_auc: 0.7376\n",
      "Epoch 73/200\n",
      "12/12 [==============================] - 1098s 97s/step - loss: 0.5636 - accuracy: 0.7185 - auc: 0.7221 - val_loss: 0.5964 - val_accuracy: 0.6893 - val_auc: 0.7378\n",
      "Epoch 74/200\n",
      "12/12 [==============================] - 1099s 97s/step - loss: 0.5490 - accuracy: 0.7220 - auc: 0.7463 - val_loss: 0.5897 - val_accuracy: 0.7009 - val_auc: 0.7380\n",
      "Epoch 75/200\n",
      "12/12 [==============================] - 1099s 97s/step - loss: 0.5668 - accuracy: 0.7031 - auc: 0.7154 - val_loss: 0.5939 - val_accuracy: 0.6945 - val_auc: 0.7378\n",
      "Epoch 76/200\n",
      "12/12 [==============================] - 1112s 98s/step - loss: 0.5691 - accuracy: 0.7142 - auc: 0.7419 - val_loss: 0.5833 - val_accuracy: 0.7037 - val_auc: 0.7379\n",
      "Epoch 77/200\n",
      "12/12 [==============================] - 1079s 95s/step - loss: 0.5796 - accuracy: 0.7021 - auc: 0.7206 - val_loss: 0.5864 - val_accuracy: 0.7005 - val_auc: 0.7378\n",
      "Epoch 78/200\n",
      "12/12 [==============================] - 1099s 97s/step - loss: 0.5804 - accuracy: 0.6966 - auc: 0.7147 - val_loss: 0.5891 - val_accuracy: 0.7025 - val_auc: 0.7387\n",
      "Epoch 79/200\n",
      "12/12 [==============================] - 1099s 97s/step - loss: 0.5788 - accuracy: 0.7051 - auc: 0.7094 - val_loss: 0.5844 - val_accuracy: 0.7033 - val_auc: 0.7387\n",
      "Epoch 80/200\n",
      "12/12 [==============================] - 1099s 97s/step - loss: 0.5543 - accuracy: 0.7227 - auc: 0.7454 - val_loss: 0.5897 - val_accuracy: 0.7033 - val_auc: 0.7385\n",
      "Epoch 81/200\n",
      "12/12 [==============================] - 1094s 96s/step - loss: 0.5645 - accuracy: 0.7055 - auc: 0.7367 - val_loss: 0.5831 - val_accuracy: 0.7033 - val_auc: 0.7391\n",
      "Epoch 82/200\n",
      "12/12 [==============================] - 1098s 97s/step - loss: 0.5557 - accuracy: 0.7116 - auc: 0.7338 - val_loss: 0.5963 - val_accuracy: 0.6933 - val_auc: 0.7398\n",
      "Epoch 83/200\n",
      "12/12 [==============================] - 1099s 97s/step - loss: 0.5698 - accuracy: 0.7077 - auc: 0.7191 - val_loss: 0.5870 - val_accuracy: 0.7045 - val_auc: 0.7400\n",
      "Epoch 84/200\n",
      "12/12 [==============================] - 1113s 98s/step - loss: 0.5699 - accuracy: 0.7188 - auc: 0.7367 - val_loss: 0.5825 - val_accuracy: 0.7049 - val_auc: 0.7401\n",
      "Epoch 85/200\n",
      "12/12 [==============================] - 1079s 95s/step - loss: 0.5638 - accuracy: 0.7021 - auc: 0.7302 - val_loss: 0.5923 - val_accuracy: 0.6993 - val_auc: 0.7396\n",
      "Epoch 86/200\n",
      "12/12 [==============================] - 1366s 121s/step - loss: 0.5586 - accuracy: 0.7161 - auc: 0.7380 - val_loss: 0.5853 - val_accuracy: 0.7037 - val_auc: 0.7393\n",
      "Epoch 87/200\n",
      "12/12 [==============================] - 1393s 123s/step - loss: 0.5539 - accuracy: 0.7331 - auc: 0.7395 - val_loss: 0.5878 - val_accuracy: 0.7053 - val_auc: 0.7401\n",
      "Epoch 88/200\n",
      "12/12 [==============================] - 1150s 101s/step - loss: 0.5681 - accuracy: 0.7018 - auc: 0.7431 - val_loss: 0.5814 - val_accuracy: 0.7057 - val_auc: 0.7404\n",
      "Epoch 89/200\n",
      "12/12 [==============================] - 1090s 96s/step - loss: 0.5532 - accuracy: 0.7212 - auc: 0.7439 - val_loss: 0.5881 - val_accuracy: 0.7057 - val_auc: 0.7410\n",
      "Epoch 90/200\n",
      "12/12 [==============================] - 1101s 97s/step - loss: 0.5689 - accuracy: 0.7109 - auc: 0.7198 - val_loss: 0.5874 - val_accuracy: 0.7037 - val_auc: 0.7405\n",
      "Epoch 91/200\n",
      "12/12 [==============================] - 1114s 98s/step - loss: 0.5568 - accuracy: 0.7194 - auc: 0.7607 - val_loss: 0.5811 - val_accuracy: 0.7029 - val_auc: 0.7409\n",
      "Epoch 92/200\n",
      "12/12 [==============================] - 1080s 95s/step - loss: 0.5613 - accuracy: 0.7198 - auc: 0.7296 - val_loss: 0.5929 - val_accuracy: 0.7005 - val_auc: 0.7411\n",
      "Epoch 93/200\n",
      "12/12 [==============================] - 1110s 98s/step - loss: 0.5414 - accuracy: 0.7168 - auc: 0.7666 - val_loss: 0.5807 - val_accuracy: 0.7045 - val_auc: 0.7415\n",
      "Epoch 94/200\n",
      "12/12 [==============================] - 1094s 96s/step - loss: 0.5604 - accuracy: 0.7194 - auc: 0.7215 - val_loss: 0.5993 - val_accuracy: 0.6921 - val_auc: 0.7412\n",
      "Epoch 95/200\n",
      "12/12 [==============================] - 1096s 96s/step - loss: 0.5802 - accuracy: 0.7096 - auc: 0.7118 - val_loss: 0.5808 - val_accuracy: 0.7025 - val_auc: 0.7412\n",
      "Epoch 96/200\n",
      "12/12 [==============================] - 1077s 95s/step - loss: 0.5553 - accuracy: 0.7260 - auc: 0.7587 - val_loss: 0.5828 - val_accuracy: 0.7053 - val_auc: 0.7419\n",
      "Epoch 97/200\n",
      "12/12 [==============================] - 1096s 96s/step - loss: 0.5568 - accuracy: 0.7188 - auc: 0.7397 - val_loss: 0.6034 - val_accuracy: 0.6856 - val_auc: 0.7419\n",
      "Epoch 98/200\n",
      "12/12 [==============================] - 1107s 97s/step - loss: 0.5671 - accuracy: 0.6986 - auc: 0.7214 - val_loss: 0.5797 - val_accuracy: 0.7065 - val_auc: 0.7423\n",
      "Epoch 99/200\n",
      "12/12 [==============================] - 1094s 96s/step - loss: 0.5709 - accuracy: 0.7012 - auc: 0.7361 - val_loss: 0.5806 - val_accuracy: 0.7029 - val_auc: 0.7424\n",
      "Epoch 100/200\n",
      "12/12 [==============================] - 1075s 95s/step - loss: 0.5366 - accuracy: 0.7355 - auc: 0.7663 - val_loss: 0.5845 - val_accuracy: 0.7081 - val_auc: 0.7428\n",
      "Epoch 101/200\n",
      "12/12 [==============================] - 1092s 96s/step - loss: 0.5607 - accuracy: 0.7240 - auc: 0.7350 - val_loss: 0.5895 - val_accuracy: 0.7013 - val_auc: 0.7431\n",
      "Epoch 102/200\n",
      "12/12 [==============================] - 1092s 96s/step - loss: 0.5403 - accuracy: 0.7292 - auc: 0.7562 - val_loss: 0.5822 - val_accuracy: 0.7073 - val_auc: 0.7434\n",
      "Epoch 103/200\n",
      "12/12 [==============================] - 1108s 98s/step - loss: 0.5676 - accuracy: 0.6940 - auc: 0.7468 - val_loss: 0.5793 - val_accuracy: 0.7073 - val_auc: 0.7437\n",
      "Epoch 104/200\n",
      "12/12 [==============================] - 1073s 94s/step - loss: 0.5511 - accuracy: 0.7110 - auc: 0.7473 - val_loss: 0.5862 - val_accuracy: 0.7077 - val_auc: 0.7436\n",
      "Epoch 105/200\n",
      "12/12 [==============================] - 1093s 96s/step - loss: 0.5496 - accuracy: 0.7331 - auc: 0.7477 - val_loss: 0.5899 - val_accuracy: 0.7013 - val_auc: 0.7432\n",
      "Epoch 106/200\n",
      "12/12 [==============================] - 1106s 97s/step - loss: 0.5617 - accuracy: 0.7129 - auc: 0.7362 - val_loss: 0.5789 - val_accuracy: 0.7093 - val_auc: 0.7436\n",
      "Epoch 107/200\n",
      "12/12 [==============================] - 1090s 96s/step - loss: 0.5554 - accuracy: 0.7259 - auc: 0.7530 - val_loss: 0.5820 - val_accuracy: 0.7057 - val_auc: 0.7438\n",
      "Epoch 108/200\n",
      "12/12 [==============================] - 1074s 94s/step - loss: 0.5449 - accuracy: 0.7137 - auc: 0.7618 - val_loss: 0.5820 - val_accuracy: 0.7061 - val_auc: 0.7439\n",
      "Epoch 109/200\n",
      "12/12 [==============================] - 1094s 96s/step - loss: 0.5489 - accuracy: 0.7285 - auc: 0.7424 - val_loss: 0.5888 - val_accuracy: 0.7029 - val_auc: 0.7440\n",
      "Epoch 110/200\n",
      "12/12 [==============================] - 1092s 96s/step - loss: 0.5472 - accuracy: 0.7272 - auc: 0.7563 - val_loss: 0.5836 - val_accuracy: 0.7073 - val_auc: 0.7442\n",
      "Epoch 111/200\n",
      "12/12 [==============================] - 1091s 96s/step - loss: 0.5574 - accuracy: 0.7220 - auc: 0.7409 - val_loss: 0.5794 - val_accuracy: 0.7069 - val_auc: 0.7444\n",
      "Epoch 112/200\n",
      "12/12 [==============================] - 1071s 94s/step - loss: 0.5463 - accuracy: 0.7198 - auc: 0.7549 - val_loss: 0.5919 - val_accuracy: 0.7025 - val_auc: 0.7442\n",
      "Epoch 113/200\n",
      "12/12 [==============================] - 1101s 97s/step - loss: 0.5427 - accuracy: 0.7103 - auc: 0.7541 - val_loss: 0.5815 - val_accuracy: 0.7073 - val_auc: 0.7443\n",
      "Epoch 114/200\n",
      "12/12 [==============================] - 1091s 96s/step - loss: 0.5473 - accuracy: 0.7318 - auc: 0.7550 - val_loss: 0.5847 - val_accuracy: 0.7053 - val_auc: 0.7445\n",
      "Epoch 115/200\n",
      "12/12 [==============================] - 1088s 96s/step - loss: 0.5562 - accuracy: 0.7164 - auc: 0.7562 - val_loss: 0.5774 - val_accuracy: 0.7069 - val_auc: 0.7446\n",
      "Epoch 116/200\n",
      "12/12 [==============================] - 1092s 96s/step - loss: 0.5388 - accuracy: 0.7318 - auc: 0.7562 - val_loss: 0.6026 - val_accuracy: 0.6921 - val_auc: 0.7445\n",
      "Epoch 117/200\n",
      "12/12 [==============================] - 1093s 96s/step - loss: 0.5526 - accuracy: 0.7148 - auc: 0.7483 - val_loss: 0.5777 - val_accuracy: 0.7073 - val_auc: 0.7444\n",
      "Epoch 118/200\n",
      "12/12 [==============================] - 1094s 96s/step - loss: 0.5566 - accuracy: 0.7168 - auc: 0.7510 - val_loss: 0.5790 - val_accuracy: 0.7065 - val_auc: 0.7445\n",
      "Epoch 119/200\n",
      "12/12 [==============================] - 1147s 101s/step - loss: 0.5525 - accuracy: 0.7342 - auc: 0.7505 - val_loss: 0.5857 - val_accuracy: 0.7057 - val_auc: 0.7446\n",
      "Epoch 120/200\n",
      "12/12 [==============================] - 1133s 100s/step - loss: 0.5298 - accuracy: 0.7415 - auc: 0.7721 - val_loss: 0.5828 - val_accuracy: 0.7061 - val_auc: 0.7448\n",
      "Epoch 121/200\n",
      "12/12 [==============================] - 1100s 97s/step - loss: 0.5567 - accuracy: 0.7168 - auc: 0.7547 - val_loss: 0.5775 - val_accuracy: 0.7073 - val_auc: 0.7451\n",
      "Epoch 122/200\n",
      "12/12 [==============================] - 1099s 97s/step - loss: 0.5533 - accuracy: 0.7194 - auc: 0.7468 - val_loss: 0.5889 - val_accuracy: 0.7045 - val_auc: 0.7446\n",
      "Epoch 123/200\n",
      "12/12 [==============================] - 1122s 99s/step - loss: 0.5434 - accuracy: 0.7328 - auc: 0.7487 - val_loss: 0.5813 - val_accuracy: 0.7041 - val_auc: 0.7445\n",
      "Epoch 124/200\n",
      "12/12 [==============================] - 1128s 99s/step - loss: 0.5489 - accuracy: 0.7220 - auc: 0.7596 - val_loss: 0.5827 - val_accuracy: 0.7057 - val_auc: 0.7442\n",
      "Epoch 125/200\n",
      "12/12 [==============================] - 1166s 103s/step - loss: 0.5389 - accuracy: 0.7318 - auc: 0.7611 - val_loss: 0.5896 - val_accuracy: 0.7033 - val_auc: 0.7447\n",
      "Epoch 126/200\n",
      "12/12 [==============================] - 1162s 102s/step - loss: 0.5449 - accuracy: 0.7227 - auc: 0.7590 - val_loss: 0.5802 - val_accuracy: 0.7037 - val_auc: 0.7451\n",
      "Epoch 127/200\n",
      "12/12 [==============================] - 1111s 98s/step - loss: 0.5361 - accuracy: 0.7267 - auc: 0.7775 - val_loss: 0.5779 - val_accuracy: 0.7077 - val_auc: 0.7459\n",
      "Epoch 128/200\n",
      "12/12 [==============================] - 1107s 97s/step - loss: 0.5530 - accuracy: 0.7253 - auc: 0.7502 - val_loss: 0.5830 - val_accuracy: 0.7073 - val_auc: 0.7461\n",
      "Epoch 129/200\n",
      "12/12 [==============================] - 1110s 98s/step - loss: 0.5376 - accuracy: 0.7318 - auc: 0.7615 - val_loss: 0.5837 - val_accuracy: 0.7057 - val_auc: 0.7460\n",
      "Epoch 130/200\n",
      "12/12 [==============================] - 1112s 98s/step - loss: 0.5543 - accuracy: 0.7148 - auc: 0.7540 - val_loss: 0.5785 - val_accuracy: 0.7073 - val_auc: 0.7458\n",
      "Epoch 131/200\n",
      "12/12 [==============================] - 1085s 95s/step - loss: 0.5432 - accuracy: 0.7239 - auc: 0.7676 - val_loss: 0.5792 - val_accuracy: 0.7061 - val_auc: 0.7456\n",
      "Epoch 132/200\n",
      "12/12 [==============================] - 1106s 97s/step - loss: 0.5284 - accuracy: 0.7292 - auc: 0.7755 - val_loss: 0.5981 - val_accuracy: 0.6953 - val_auc: 0.7451\n",
      "Epoch 133/200\n",
      "12/12 [==============================] - 1108s 97s/step - loss: 0.5402 - accuracy: 0.7253 - auc: 0.7580 - val_loss: 0.5779 - val_accuracy: 0.7045 - val_auc: 0.7455\n",
      "Epoch 134/200\n",
      "12/12 [==============================] - 1106s 97s/step - loss: 0.5427 - accuracy: 0.7344 - auc: 0.7593 - val_loss: 0.5815 - val_accuracy: 0.7081 - val_auc: 0.7456\n",
      "Epoch 135/200\n",
      "12/12 [==============================] - 1087s 96s/step - loss: 0.5353 - accuracy: 0.7267 - auc: 0.7650 - val_loss: 0.5849 - val_accuracy: 0.7065 - val_auc: 0.7451\n",
      "Epoch 136/200\n",
      "12/12 [==============================] - 1107s 97s/step - loss: 0.5266 - accuracy: 0.7428 - auc: 0.7660 - val_loss: 0.5858 - val_accuracy: 0.7061 - val_auc: 0.7448\n",
      "Epoch 137/200\n",
      "12/12 [==============================] - 1121s 99s/step - loss: 0.5536 - accuracy: 0.7331 - auc: 0.7619 - val_loss: 0.5767 - val_accuracy: 0.7057 - val_auc: 0.7458\n",
      "Epoch 138/200\n",
      "12/12 [==============================] - 1091s 96s/step - loss: 0.5393 - accuracy: 0.7328 - auc: 0.7650 - val_loss: 0.5858 - val_accuracy: 0.7053 - val_auc: 0.7461\n",
      "Epoch 139/200\n",
      "12/12 [==============================] - 1109s 98s/step - loss: 0.5375 - accuracy: 0.7383 - auc: 0.7701 - val_loss: 0.5779 - val_accuracy: 0.7057 - val_auc: 0.7465\n",
      "Epoch 140/200\n",
      "12/12 [==============================] - 1107s 97s/step - loss: 0.5122 - accuracy: 0.7467 - auc: 0.7917 - val_loss: 0.5983 - val_accuracy: 0.6981 - val_auc: 0.7464\n",
      "Epoch 141/200\n",
      "12/12 [==============================] - 1105s 97s/step - loss: 0.5546 - accuracy: 0.7181 - auc: 0.7466 - val_loss: 0.5774 - val_accuracy: 0.7033 - val_auc: 0.7468\n",
      "Epoch 142/200\n",
      "12/12 [==============================] - 1088s 96s/step - loss: 0.5467 - accuracy: 0.7273 - auc: 0.7583 - val_loss: 0.5903 - val_accuracy: 0.7013 - val_auc: 0.7459\n",
      "Epoch 143/200\n",
      "12/12 [==============================] - 1104s 97s/step - loss: 0.5278 - accuracy: 0.7350 - auc: 0.7686 - val_loss: 0.5897 - val_accuracy: 0.7025 - val_auc: 0.7457\n",
      "Epoch 144/200\n",
      "12/12 [==============================] - 1105s 97s/step - loss: 0.5346 - accuracy: 0.7292 - auc: 0.7735 - val_loss: 0.5779 - val_accuracy: 0.7025 - val_auc: 0.7461\n",
      "Epoch 145/200\n",
      "12/12 [==============================] - 1105s 97s/step - loss: 0.5377 - accuracy: 0.7428 - auc: 0.7782 - val_loss: 0.5824 - val_accuracy: 0.7049 - val_auc: 0.7454\n",
      "Epoch 146/200\n",
      "12/12 [==============================] - 1086s 96s/step - loss: 0.5268 - accuracy: 0.7321 - auc: 0.7722 - val_loss: 0.5882 - val_accuracy: 0.7057 - val_auc: 0.7457\n",
      "Epoch 147/200\n",
      "12/12 [==============================] - 1119s 99s/step - loss: 0.5433 - accuracy: 0.7292 - auc: 0.7681 - val_loss: 0.5765 - val_accuracy: 0.7065 - val_auc: 0.7463\n",
      "Epoch 148/200\n",
      "12/12 [==============================] - 1105s 97s/step - loss: 0.5327 - accuracy: 0.7363 - auc: 0.7698 - val_loss: 0.5982 - val_accuracy: 0.6989 - val_auc: 0.7460\n",
      "Epoch 149/200\n",
      "12/12 [==============================] - 1116s 98s/step - loss: 0.5421 - accuracy: 0.7259 - auc: 0.7613 - val_loss: 0.5807 - val_accuracy: 0.7069 - val_auc: 0.7456\n",
      "Epoch 150/200\n",
      "12/12 [==============================] - 1087s 96s/step - loss: 0.5311 - accuracy: 0.7369 - auc: 0.7696 - val_loss: 0.5833 - val_accuracy: 0.7077 - val_auc: 0.7459\n",
      "Epoch 151/200\n",
      "12/12 [==============================] - 1158s 102s/step - loss: 0.5352 - accuracy: 0.7480 - auc: 0.7729 - val_loss: 0.5808 - val_accuracy: 0.7089 - val_auc: 0.7464\n",
      "Epoch 152/200\n",
      "12/12 [==============================] - 1107s 97s/step - loss: 0.5177 - accuracy: 0.7493 - auc: 0.7881 - val_loss: 0.5862 - val_accuracy: 0.7077 - val_auc: 0.7462\n",
      "Epoch 153/200\n",
      "12/12 [==============================] - 1105s 97s/step - loss: 0.5139 - accuracy: 0.7539 - auc: 0.7998 - val_loss: 0.5831 - val_accuracy: 0.7077 - val_auc: 0.7461\n",
      "Epoch 154/200\n",
      "12/12 [==============================] - 1096s 96s/step - loss: 0.5251 - accuracy: 0.7382 - auc: 0.7763 - val_loss: 0.5874 - val_accuracy: 0.7045 - val_auc: 0.7460\n",
      "Epoch 155/200\n",
      "12/12 [==============================] - 1108s 98s/step - loss: 0.5347 - accuracy: 0.7402 - auc: 0.7756 - val_loss: 0.5801 - val_accuracy: 0.7045 - val_auc: 0.7458\n",
      "Epoch 156/200\n",
      "12/12 [==============================] - 1105s 97s/step - loss: 0.5237 - accuracy: 0.7493 - auc: 0.7805 - val_loss: 0.5874 - val_accuracy: 0.7045 - val_auc: 0.7455\n",
      "Epoch 157/200\n",
      "12/12 [==============================] - 1115s 98s/step - loss: 0.5420 - accuracy: 0.7318 - auc: 0.7607 - val_loss: 0.5811 - val_accuracy: 0.7057 - val_auc: 0.7452\n",
      "Epoch 158/200\n",
      "12/12 [==============================] - 1104s 97s/step - loss: 0.5351 - accuracy: 0.7376 - auc: 0.7684 - val_loss: 0.5842 - val_accuracy: 0.7073 - val_auc: 0.7457\n",
      "Epoch 159/200\n",
      "12/12 [==============================] - 1216s 107s/step - loss: 0.5372 - accuracy: 0.7298 - auc: 0.7714 - val_loss: 0.5805 - val_accuracy: 0.7069 - val_auc: 0.7459\n",
      "Epoch 160/200\n"
     ]
    }
   ],
   "source": [
    "%%time\n",
    "checkpoint = ModelCheckpoint('model3.h5', monitor='val_loss', save_best_only=True)\n",
    "\n",
    "train_history = model.fit(\n",
    "    [train_input, img_feature], train_labels,\n",
    "    validation_split=0.3,\n",
    "    epochs=200,\n",
    "    callbacks=[checkpoint],\n",
    "    batch_size=128,\n",
    "    steps_per_epoch=12   \n",
    ")"
   ]
  },
  {
   "cell_type": "code",
   "execution_count": null,
   "id": "71a1b0ff-3855-4238-b1fb-c16d5b20092b",
   "metadata": {},
   "outputs": [],
   "source": [
    "test_data = pd.read_json(\"Data/dev.jsonl\",lines=True)\n",
    "test_data"
   ]
  },
  {
   "cell_type": "code",
   "execution_count": 18,
   "id": "12986867",
   "metadata": {},
   "outputs": [
    {
     "name": "stdout",
     "output_type": "stream",
     "text": [
      "16/16 [==============================] - 247s 15s/step\n"
     ]
    }
   ],
   "source": [
    "model.load_weights('model3.h5')\n",
    "test_pred = model.predict([test_input, dev_img_feature])"
   ]
  },
  {
   "cell_type": "code",
   "execution_count": 19,
   "id": "ad602af3",
   "metadata": {},
   "outputs": [
    {
     "name": "stdout",
     "output_type": "stream",
     "text": [
      "AUC:  0.632605559926567\n"
     ]
    }
   ],
   "source": [
    "from sklearn.metrics import roc_auc_score, balanced_accuracy_score\n",
    "y_actual = list(test_labels)\n",
    "y_prob = list(test_pred.reshape(len(test_pred), ))\n",
    "print(\"AUC: \", roc_auc_score(y_actual, y_prob))"
   ]
  },
  {
   "cell_type": "code",
   "execution_count": null,
   "id": "1210a897",
   "metadata": {},
   "outputs": [],
   "source": []
  }
 ],
 "metadata": {
  "kernelspec": {
   "display_name": "Python 3 (ipykernel)",
   "language": "python",
   "name": "python3"
  },
  "language_info": {
   "codemirror_mode": {
    "name": "ipython",
    "version": 3
   },
   "file_extension": ".py",
   "mimetype": "text/x-python",
   "name": "python",
   "nbconvert_exporter": "python",
   "pygments_lexer": "ipython3",
   "version": "3.9.13 (main, Aug 25 2022, 23:51:50) [MSC v.1916 64 bit (AMD64)]"
  },
  "vscode": {
   "interpreter": {
    "hash": "8f7660018a1f48e52e1285a6cd46b08bf9e759a1146999e72bfa769101423a7a"
   }
  }
 },
 "nbformat": 4,
 "nbformat_minor": 5
}
