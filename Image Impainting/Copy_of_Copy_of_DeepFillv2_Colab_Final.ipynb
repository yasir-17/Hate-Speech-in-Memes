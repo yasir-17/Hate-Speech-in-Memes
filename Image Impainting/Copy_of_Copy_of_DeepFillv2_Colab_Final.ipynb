{
 "cells": [
  {
   "cell_type": "code",
   "execution_count": null,
   "metadata": {
    "colab": {
     "base_uri": "https://localhost:8080/"
    },
    "id": "O-U4WbaFBqm7",
    "outputId": "045ce525-1d71-4313-b2e7-f9eed86495ad"
   },
   "outputs": [
    {
     "name": "stdout",
     "output_type": "stream",
     "text": [
      "Mounted at /content/drive\n"
     ]
    }
   ],
   "source": [
    "from google.colab import drive\n",
    "drive.mount('/content/drive')"
   ]
  },
  {
   "cell_type": "code",
   "execution_count": null,
   "metadata": {},
   "outputs": [],
   "source": [
    "pip install keras_ocr"
   ]
  },
  {
   "cell_type": "code",
   "execution_count": 1,
   "metadata": {
    "colab": {
     "base_uri": "https://localhost:8080/",
     "height": 35
    },
    "id": "bxLpZDp1Bz7R",
    "outputId": "a4190ed3-7a2d-40ff-f2b4-d529c43597c5"
   },
   "outputs": [
    {
     "data": {
      "text/plain": [
       "'D:\\\\PycharmProjects\\\\Hate Speech Detection\\\\Image Impainting'"
      ]
     },
     "execution_count": 1,
     "metadata": {},
     "output_type": "execute_result"
    }
   ],
   "source": [
    "import os\n",
    "os.getcwd()"
   ]
  },
  {
   "cell_type": "code",
   "execution_count": null,
   "metadata": {
    "colab": {
     "base_uri": "https://localhost:8080/"
    },
    "id": "oUoGqoLPB4_-",
    "outputId": "194faf69-6472-4a7a-d231-0e863dcea669"
   },
   "outputs": [
    {
     "name": "stdout",
     "output_type": "stream",
     "text": [
      "/content/drive/MyDrive\n"
     ]
    }
   ],
   "source": [
    "cd /content/drive/MyDrive"
   ]
  },
  {
   "cell_type": "code",
   "execution_count": 3,
   "metadata": {
    "colab": {
     "base_uri": "https://localhost:8080/"
    },
    "id": "d3EwRK4SNnKL",
    "outputId": "251a10ca-4291-428b-f8da-d9f4d44572b7"
   },
   "outputs": [
    {
     "name": "stderr",
     "output_type": "stream",
     "text": [
      "fatal: destination path 'deepfillv2_colab' already exists and is not an empty directory.\n",
      "An error has occurred using proxy: None\n",
      "HTTPSConnectionPool(host='drive.google.com', port=443): Max retries exceeded with url: /u/0/uc?id=1uMghKl883-9hDLhSiI8lRbHCzCmmRwV-&export=download (Caused by ProxyError('Cannot connect to proxy.', NewConnectionError('<urllib3.connection.HTTPSConnection object at 0x000001DA2B587A60>: Failed to establish a new connection: [WinError 10061] No connection could be made because the target machine actively refused it')))\n",
      "'mv' is not recognized as an internal or external command,\n",
      "operable program or batch file.\n"
     ]
    }
   ],
   "source": [
    "#@title Run this cell for setup { display-mode: \"form\"}\n",
    "!git clone https://github.com/vrindaprabhu/deepfillv2_colab.git\n",
    "!gdown \"https://drive.google.com/u/0/uc?id=1uMghKl883-9hDLhSiI8lRbHCzCmmRwV-&export=download\"\n",
    "!mv /content/deepfillv2_WGAN_G_epoch40_batchsize4.pth deepfillv2_colab/model/deepfillv2_WGAN.pth"
   ]
  },
  {
   "cell_type": "code",
   "execution_count": null,
   "metadata": {
    "colab": {
     "base_uri": "https://localhost:8080/"
    },
    "id": "uQ8myHc7iDuX",
    "outputId": "fecd9978-a36c-4bd5-a08c-d83df74057f9"
   },
   "outputs": [
    {
     "name": "stdout",
     "output_type": "stream",
     "text": [
      "Mounted at /content/drive\n"
     ]
    }
   ],
   "source": [
    "from google.colab import drive\n",
    "drive.mount('/content/drive', force_remount=True)"
   ]
  },
  {
   "cell_type": "code",
   "execution_count": null,
   "metadata": {
    "colab": {
     "base_uri": "https://localhost:8080/",
     "height": 35
    },
    "id": "rv_6PhJpived",
    "outputId": "3df98113-5489-47c8-e5b5-53d5e15d571b"
   },
   "outputs": [
    {
     "data": {
      "application/vnd.google.colaboratory.intrinsic+json": {
       "type": "string"
      },
      "text/plain": [
       "'/content/drive/MyDrive'"
      ]
     },
     "execution_count": 56,
     "metadata": {},
     "output_type": "execute_result"
    }
   ],
   "source": [
    "import os\n",
    "os.getcwd()"
   ]
  },
  {
   "cell_type": "code",
   "execution_count": null,
   "metadata": {
    "colab": {
     "base_uri": "https://localhost:8080/"
    },
    "id": "BfzRC4ODi1yA",
    "outputId": "165e487c-e33b-444e-de60-196dfca76e83"
   },
   "outputs": [
    {
     "name": "stdout",
     "output_type": "stream",
     "text": [
      "[Errno 2] No such file or directory: 'drive/MyDrive'\n",
      "/content/drive/MyDrive\n"
     ]
    }
   ],
   "source": [
    "cd drive/MyDrive"
   ]
  },
  {
   "cell_type": "code",
   "execution_count": null,
   "metadata": {
    "colab": {
     "base_uri": "https://localhost:8080/"
    },
    "id": "Y9ekyvOUoxBV",
    "outputId": "9e625baa-5e78-4a43-db51-7e63b4be6217"
   },
   "outputs": [
    {
     "name": "stdout",
     "output_type": "stream",
     "text": [
      "Archive:  /content/drive/MyDrive/mask_wthe.zip\n",
      "  inflating: /content/drive/MyDrive/mask_wthe/mask_wthe/image_1.jpg  \n",
      "  inflating: /content/drive/MyDrive/mask_wthe/mask_wthe/image_113.jpeg  \n",
      "  inflating: /content/drive/MyDrive/mask_wthe/mask_wthe/image_116.jpeg  \n",
      "  inflating: /content/drive/MyDrive/mask_wthe/mask_wthe/image_34.jpg  \n",
      "  inflating: /content/drive/MyDrive/mask_wthe/mask_wthe/image_81.jpg  \n",
      "  inflating: /content/drive/MyDrive/mask_wthe/mask_wthe/image_82.jpg  \n"
     ]
    }
   ],
   "source": [
    "!unzip \"/content/drive/MyDrive/mask_wthe.zip\" -d \"/content/drive/MyDrive/mask_wthe\""
   ]
  },
  {
   "cell_type": "code",
   "execution_count": 7,
   "metadata": {},
   "outputs": [
    {
     "data": {
      "text/plain": [
       "'D:\\\\PycharmProjects\\\\Hate Speech Detection\\\\Image Impainting\\\\deepfillv2_colab'"
      ]
     },
     "execution_count": 7,
     "metadata": {},
     "output_type": "execute_result"
    }
   ],
   "source": [
    "pwd"
   ]
  },
  {
   "cell_type": "code",
   "execution_count": 5,
   "metadata": {
    "colab": {
     "base_uri": "https://localhost:8080/"
    },
    "id": "ZXAXdrKg3UHq",
    "outputId": "1dbd9cee-cae0-4e91-ef5b-8260912fa7d5"
   },
   "outputs": [
    {
     "name": "stdout",
     "output_type": "stream",
     "text": [
      "[WinError 2] The system cannot find the file specified: 'deepfillv2_colab'\n",
      "D:\\PycharmProjects\\Hate Speech Detection\\Image Impainting\\deepfillv2_colab\n"
     ]
    }
   ],
   "source": [
    "cd deepfillv2_colab"
   ]
  },
  {
   "cell_type": "code",
   "execution_count": 6,
   "metadata": {
    "colab": {
     "base_uri": "https://localhost:8080/"
    },
    "id": "qL_BehEt-9ZV",
    "outputId": "d3523c6b-4979-4963-823d-f9e8fa8aa1ca"
   },
   "outputs": [
    {
     "name": "stderr",
     "output_type": "stream",
     "text": [
      "WARNING: Retrying (Retry(total=4, connect=None, read=None, redirect=None, status=None)) after connection broken by 'ProxyError('Cannot connect to proxy.', NewConnectionError('<pip._vendor.urllib3.connection.HTTPSConnection object at 0x0000017F40197940>: Failed to establish a new connection: [WinError 10061] No connection could be made because the target machine actively refused it'))': /simple/keras-ocr/\n",
      "WARNING: Retrying (Retry(total=3, connect=None, read=None, redirect=None, status=None)) after connection broken by 'ProxyError('Cannot connect to proxy.', NewConnectionError('<pip._vendor.urllib3.connection.HTTPSConnection object at 0x0000017F40194D60>: Failed to establish a new connection: [WinError 10061] No connection could be made because the target machine actively refused it'))': /simple/keras-ocr/\n",
      "WARNING: Retrying (Retry(total=2, connect=None, read=None, redirect=None, status=None)) after connection broken by 'ProxyError('Cannot connect to proxy.', NewConnectionError('<pip._vendor.urllib3.connection.HTTPSConnection object at 0x0000017F40194F40>: Failed to establish a new connection: [WinError 10061] No connection could be made because the target machine actively refused it'))': /simple/keras-ocr/\n",
      "WARNING: Retrying (Retry(total=1, connect=None, read=None, redirect=None, status=None)) after connection broken by 'ProxyError('Cannot connect to proxy.', NewConnectionError('<pip._vendor.urllib3.connection.HTTPSConnection object at 0x0000017F40197220>: Failed to establish a new connection: [WinError 10061] No connection could be made because the target machine actively refused it'))': /simple/keras-ocr/\n",
      "WARNING: Retrying (Retry(total=0, connect=None, read=None, redirect=None, status=None)) after connection broken by 'ProxyError('Cannot connect to proxy.', NewConnectionError('<pip._vendor.urllib3.connection.HTTPSConnection object at 0x0000017F401C50A0>: Failed to establish a new connection: [WinError 10061] No connection could be made because the target machine actively refused it'))': /simple/keras-ocr/\n",
      "ERROR: Could not find a version that satisfies the requirement keras_ocr (from versions: none)\n",
      "ERROR: No matching distribution found for keras_ocr\n",
      "WARNING: There was an error checking the latest version of pip.\n"
     ]
    },
    {
     "ename": "ModuleNotFoundError",
     "evalue": "No module named 'keras_ocr'",
     "output_type": "error",
     "traceback": [
      "\u001b[1;31m---------------------------------------------------------------------------\u001b[0m",
      "\u001b[1;31mModuleNotFoundError\u001b[0m                       Traceback (most recent call last)",
      "Input \u001b[1;32mIn [6]\u001b[0m, in \u001b[0;36m<cell line: 2>\u001b[1;34m()\u001b[0m\n\u001b[0;32m      1\u001b[0m get_ipython()\u001b[38;5;241m.\u001b[39msystem(\u001b[38;5;124m'\u001b[39m\u001b[38;5;124mpip install keras_ocr\u001b[39m\u001b[38;5;124m'\u001b[39m)\n\u001b[1;32m----> 2\u001b[0m \u001b[38;5;28;01mimport\u001b[39;00m \u001b[38;5;21;01mkeras_ocr\u001b[39;00m\n\u001b[0;32m      3\u001b[0m \u001b[38;5;28;01mimport\u001b[39;00m \u001b[38;5;21;01mcv2\u001b[39;00m\n\u001b[0;32m      4\u001b[0m \u001b[38;5;28;01mimport\u001b[39;00m \u001b[38;5;21;01mmath\u001b[39;00m\n",
      "\u001b[1;31mModuleNotFoundError\u001b[0m: No module named 'keras_ocr'"
     ]
    }
   ],
   "source": [
    "!pip install keras_ocr\n",
    "import keras_ocr\n",
    "import cv2\n",
    "import math\n",
    "import numpy as np\n",
    "import os\n",
    "from PIL import Image\n",
    "from google.colab.patches import cv2_imshow\n",
    "\n",
    "\n",
    "def midpoint(x1, y1, x2, y2):\n",
    "    x_mid = int((x1 + x2)/2)\n",
    "    y_mid = int((y1 + y2)/2)\n",
    "    return (x_mid, y_mid)\n",
    "    \n",
    "def create_mask(img_path):\n",
    "    # read image\n",
    "    img = keras_ocr.tools.read(img_path)\n",
    "    pipeline= keras_ocr.pipeline.Pipeline()\n",
    "    prediction_groups = pipeline.recognize([img])\n",
    "    \n",
    "    mask = np.zeros(img.shape[:2], dtype=\"uint8\")\n",
    "    \n",
    "    for box in prediction_groups[0]:\n",
    "        x0, y0 = box[1][0]\n",
    "        x1, y1 = box[1][1] \n",
    "        x2, y2 = box[1][2]\n",
    "        x3, y3 = box[1][3] \n",
    "        \n",
    "        x_mid0, y_mid0 = midpoint(x1, y1, x2, y2)\n",
    "        x_mid1, y_mi1 = midpoint(x0, y0, x3, y3)\n",
    "        \n",
    "        thickness = int(math.sqrt( (x2 - x1)**2 + (y2 - y1)**2 ))\n",
    "        \n",
    "        cv2.line(mask, (x_mid0, y_mid0), (x_mid1, y_mi1), 255,    \n",
    "                 thickness)\n",
    "        \n",
    "                 \n",
    "    return(mask)\n",
    "\n"
   ]
  },
  {
   "cell_type": "code",
   "execution_count": null,
   "metadata": {
    "colab": {
     "base_uri": "https://localhost:8080/"
    },
    "id": "DIy4KEsksRLZ",
    "outputId": "0cdc9b2b-a6b9-4f0c-de84-e10395b1db54"
   },
   "outputs": [
    {
     "name": "stdout",
     "output_type": "stream",
     "text": [
      "Looking in indexes: https://pypi.org/simple, https://us-python.pkg.dev/colab-wheels/public/simple/\n",
      "\u001b[31mERROR: Could not find a version that satisfies the requirement opencv-python==4.1.2 (from versions: 3.4.0.14, 3.4.8.29, 3.4.9.31, 3.4.9.33, 3.4.10.35, 3.4.10.37, 3.4.11.39, 3.4.11.41, 3.4.11.43, 3.4.11.45, 3.4.13.47, 3.4.14.51, 3.4.14.53, 3.4.15.55, 3.4.16.57, 3.4.16.59, 3.4.17.61, 3.4.17.63, 3.4.18.65, 4.1.2.30, 4.2.0.32, 4.2.0.34, 4.3.0.36, 4.3.0.38, 4.4.0.40, 4.4.0.42, 4.4.0.44, 4.4.0.46, 4.5.1.48, 4.5.2.52, 4.5.2.54, 4.5.3.56, 4.5.4.58, 4.5.4.60, 4.5.5.62, 4.5.5.64, 4.6.0.66, 4.7.0.68)\u001b[0m\u001b[31m\n",
      "\u001b[0m\u001b[31mERROR: No matching distribution found for opencv-python==4.1.2\u001b[0m\u001b[31m\n",
      "\u001b[0m"
     ]
    }
   ],
   "source": [
    "!pip install opencv-python==4.1.2"
   ]
  },
  {
   "cell_type": "code",
   "execution_count": null,
   "metadata": {
    "colab": {
     "base_uri": "https://localhost:8080/"
    },
    "id": "cNIWAUuhrAns",
    "outputId": "ba6aa5e2-e755-4ae0-a47f-df2a90a25690"
   },
   "outputs": [
    {
     "name": "stdout",
     "output_type": "stream",
     "text": [
      "4.6.0\n"
     ]
    }
   ],
   "source": [
    "print(cv2.__version__)"
   ]
  },
  {
   "cell_type": "code",
   "execution_count": null,
   "metadata": {
    "colab": {
     "base_uri": "https://localhost:8080/"
    },
    "id": "XeJhboExwJuf",
    "outputId": "9cf2a3ad-ae85-4a6b-ffc9-d82371f3faea"
   },
   "outputs": [
    {
     "name": "stdout",
     "output_type": "stream",
     "text": [
      "1.21.6\n"
     ]
    }
   ],
   "source": [
    "print(np.__version__)"
   ]
  },
  {
   "cell_type": "code",
   "execution_count": null,
   "metadata": {
    "colab": {
     "base_uri": "https://localhost:8080/"
    },
    "id": "yIARcXf9xO2x",
    "outputId": "e0178c80-7d77-4547-c261-b9cf0586e43d"
   },
   "outputs": [
    {
     "name": "stdout",
     "output_type": "stream",
     "text": [
      "0.9.2\n"
     ]
    }
   ],
   "source": [
    "print(keras_ocr.__version__)"
   ]
  },
  {
   "cell_type": "code",
   "execution_count": null,
   "metadata": {
    "id": "C0myXYz9aATI"
   },
   "outputs": [],
   "source": [
    "def mask_input(file):\n",
    "  i = cv2.imread(file)\n",
    "  output = create_mask(i)\n",
    "  output = Image.fromarray(output)\n",
    "  output.save(\"/content/drive/MyDrive/mask_wis/\" + os.path.basename(file))"
   ]
  },
  {
   "cell_type": "code",
   "execution_count": null,
   "metadata": {
    "id": "xP4k13p0sMIe"
   },
   "outputs": [],
   "source": [
    "done_files = []\n",
    "for filename in os.listdir(\"/content/drive/MyDrive/mask_wis/\"):\n",
    "  done_files.append(filename)"
   ]
  },
  {
   "cell_type": "code",
   "execution_count": null,
   "metadata": {
    "colab": {
     "base_uri": "https://localhost:8080/"
    },
    "id": "5pVqUE6htY1d",
    "outputId": "9a7916d0-3e41-492c-e4be-213369301e5f"
   },
   "outputs": [
    {
     "data": {
      "text/plain": [
       "0"
      ]
     },
     "execution_count": 66,
     "metadata": {},
     "output_type": "execute_result"
    }
   ],
   "source": [
    "len(done_files)"
   ]
  },
  {
   "cell_type": "code",
   "execution_count": null,
   "metadata": {
    "colab": {
     "base_uri": "https://localhost:8080/"
    },
    "id": "Kr7UeG5gsmfe",
    "outputId": "8f799be7-fb14-421a-d818-c70bbe1cafcd"
   },
   "outputs": [
    {
     "name": "stdout",
     "output_type": "stream",
     "text": [
      "/content/drive/MyDrive/wis/image_81.jpg\n",
      "Looking for /root/.keras-ocr/craft_mlt_25k.h5\n",
      "Looking for /root/.keras-ocr/crnn_kurapan.h5\n",
      "1/1 [==============================] - 0s 382ms/step\n",
      "1/1 [==============================] - 2s 2s/step\n",
      "/content/drive/MyDrive/wis/image_82.jpg\n",
      "Looking for /root/.keras-ocr/craft_mlt_25k.h5\n",
      "Looking for /root/.keras-ocr/crnn_kurapan.h5\n",
      "1/1 [==============================] - 0s 403ms/step\n",
      "1/1 [==============================] - 2s 2s/step\n",
      "/content/drive/MyDrive/wis/image_34.jpg\n",
      "Looking for /root/.keras-ocr/craft_mlt_25k.h5\n",
      "Looking for /root/.keras-ocr/crnn_kurapan.h5\n",
      "1/1 [==============================] - 0s 390ms/step\n",
      "1/1 [==============================] - 1s 1s/step\n",
      "/content/drive/MyDrive/wis/image_1.jpg\n",
      "Looking for /root/.keras-ocr/craft_mlt_25k.h5\n",
      "Looking for /root/.keras-ocr/crnn_kurapan.h5\n",
      "1/1 [==============================] - 0s 402ms/step\n",
      "1/1 [==============================] - 2s 2s/step\n"
     ]
    }
   ],
   "source": [
    "import os\n",
    "def mask_all_input(input_folder):\n",
    "  for filename in os.listdir(input_folder):\n",
    "    f = os.path.join(input_folder, filename)\n",
    "    #print(f)\n",
    "    if(f[len(f)-1]=='g' and f[len(f)-2]=='p' and f[len(f)-3]=='j' and f[len(f)-4]=='.' and filename not in done_files):\n",
    "      print(f)\n",
    "      mask_input(f)\n",
    "      done_files.append(filename)\n",
    "    #mask_input(f)\n",
    "mask_all_input(\"/content/drive/MyDrive/wis\")"
   ]
  },
  {
   "cell_type": "code",
   "execution_count": null,
   "metadata": {
    "colab": {
     "base_uri": "https://localhost:8080/",
     "height": 35
    },
    "id": "3bq3ECMksyvI",
    "outputId": "e8fe9a97-b80f-4b2a-b334-2d7eb4f0c650"
   },
   "outputs": [
    {
     "data": {
      "application/vnd.google.colaboratory.intrinsic+json": {
       "type": "string"
      },
      "text/plain": [
       "'/content/drive/MyDrive/deepfillv2_colab'"
      ]
     },
     "execution_count": 25,
     "metadata": {},
     "output_type": "execute_result"
    }
   ],
   "source": [
    "pwd"
   ]
  },
  {
   "cell_type": "code",
   "execution_count": null,
   "metadata": {
    "colab": {
     "base_uri": "https://localhost:8080/"
    },
    "id": "CJqeeiTElMlW",
    "outputId": "f74ecc50-7618-4923-ce1e-4b359ee97088"
   },
   "outputs": [
    {
     "name": "stdout",
     "output_type": "stream",
     "text": [
      "/content/drive/MyDrive\n"
     ]
    }
   ],
   "source": [
    "cd .."
   ]
  },
  {
   "cell_type": "code",
   "execution_count": null,
   "metadata": {
    "colab": {
     "base_uri": "https://localhost:8080/"
    },
    "id": "9TCz9RBd1XLY",
    "outputId": "2aa6c00f-4eab-4964-ffc3-e1ef49566d55"
   },
   "outputs": [
    {
     "name": "stdout",
     "output_type": "stream",
     "text": [
      "/content/drive/MyDrive/deepfillv2_colab\n"
     ]
    }
   ],
   "source": [
    "cd /content/drive/MyDrive/deepfillv2_colab"
   ]
  },
  {
   "cell_type": "code",
   "execution_count": null,
   "metadata": {
    "colab": {
     "base_uri": "https://localhost:8080/"
    },
    "id": "fMzyT-yk_Sz8",
    "outputId": "5429101a-a396-4c1c-cecb-db9ea3f8c58b"
   },
   "outputs": [
    {
     "name": "stdout",
     "output_type": "stream",
     "text": [
      "-- Generator is created! --\n",
      "-- Initialized generator with xavier type --\n",
      "-- INPAINT: Loading Pretrained Model --\n",
      "/usr/local/lib/python3.8/dist-packages/torch/utils/data/dataloader.py:554: UserWarning: This DataLoader will create 8 worker processes in total. Our suggested max number of worker in current system is 2, which is smaller than what this DataLoader is going to create. Please be aware that excessive worker creation might get DataLoader running slow or even freeze, lower the worker number to avoid potential slowness/freeze if necessary.\n",
      "  warnings.warn(_create_warning_msg(\n",
      "-- Inpainting is finished --\n",
      "-- Inpainting is finished --\n",
      "-- Inpainting is finished --\n",
      "-- Inpainting is finished --\n"
     ]
    }
   ],
   "source": [
    "#@title Run to trigger inpainting. { display-mode: \"form\" }\n",
    "!python inpaint.py"
   ]
  }
 ],
 "metadata": {
  "accelerator": "GPU",
  "colab": {
   "provenance": []
  },
  "kernelspec": {
   "display_name": "Python 3 (ipykernel)",
   "language": "python",
   "name": "python3"
  },
  "language_info": {
   "codemirror_mode": {
    "name": "ipython",
    "version": 3
   },
   "file_extension": ".py",
   "mimetype": "text/x-python",
   "name": "python",
   "nbconvert_exporter": "python",
   "pygments_lexer": "ipython3",
   "version": "3.9.13"
  }
 },
 "nbformat": 4,
 "nbformat_minor": 4
}
