{
  "cells": [
    {
      "cell_type": "code",
      "source": [
        "from google.colab import drive\n",
        "drive.mount('/content/drive')"
      ],
      "metadata": {
        "id": "O-U4WbaFBqm7",
        "outputId": "045ce525-1d71-4313-b2e7-f9eed86495ad",
        "colab": {
          "base_uri": "https://localhost:8080/"
        }
      },
      "execution_count": null,
      "outputs": [
        {
          "output_type": "stream",
          "name": "stdout",
          "text": [
            "Mounted at /content/drive\n"
          ]
        }
      ]
    },
    {
      "cell_type": "code",
      "source": [
        "import os\n",
        "os.getcwd()"
      ],
      "metadata": {
        "id": "bxLpZDp1Bz7R",
        "outputId": "a4190ed3-7a2d-40ff-f2b4-d529c43597c5",
        "colab": {
          "base_uri": "https://localhost:8080/",
          "height": 35
        }
      },
      "execution_count": null,
      "outputs": [
        {
          "output_type": "execute_result",
          "data": {
            "text/plain": [
              "'/content'"
            ],
            "application/vnd.google.colaboratory.intrinsic+json": {
              "type": "string"
            }
          },
          "metadata": {},
          "execution_count": 4
        }
      ]
    },
    {
      "cell_type": "code",
      "source": [
        "cd /content/drive/MyDrive"
      ],
      "metadata": {
        "id": "oUoGqoLPB4_-",
        "outputId": "194faf69-6472-4a7a-d231-0e863dcea669",
        "colab": {
          "base_uri": "https://localhost:8080/"
        }
      },
      "execution_count": null,
      "outputs": [
        {
          "output_type": "stream",
          "name": "stdout",
          "text": [
            "/content/drive/MyDrive\n"
          ]
        }
      ]
    },
    {
      "cell_type": "code",
      "metadata": {
        "id": "d3EwRK4SNnKL",
        "colab": {
          "base_uri": "https://localhost:8080/"
        },
        "outputId": "251a10ca-4291-428b-f8da-d9f4d44572b7"
      },
      "source": [
        "#@title Run this cell for setup { display-mode: \"form\"}\n",
        "!git clone https://github.com/vrindaprabhu/deepfillv2_colab.git\n",
        "!gdown \"https://drive.google.com/u/0/uc?id=1uMghKl883-9hDLhSiI8lRbHCzCmmRwV-&export=download\"\n",
        "!mv /content/deepfillv2_WGAN_G_epoch40_batchsize4.pth deepfillv2_colab/model/deepfillv2_WGAN.pth"
      ],
      "execution_count": null,
      "outputs": [
        {
          "output_type": "stream",
          "name": "stdout",
          "text": [
            "Cloning into 'deepfillv2_colab'...\n",
            "remote: Enumerating objects: 99, done.\u001b[K\n",
            "remote: Counting objects: 100% (3/3), done.\u001b[K\n",
            "remote: Compressing objects: 100% (2/2), done.\u001b[K\n",
            "remote: Total 99 (delta 2), reused 1 (delta 1), pack-reused 96\u001b[K\n",
            "Unpacking objects: 100% (99/99), 571.54 KiB | 614.00 KiB/s, done.\n",
            "Downloading...\n",
            "From: https://drive.google.com/u/0/uc?id=1uMghKl883-9hDLhSiI8lRbHCzCmmRwV-&export=download\n",
            "To: /content/drive/MyDrive/deepfillv2_WGAN_G_epoch40_batchsize4.pth\n",
            "100% 64.8M/64.8M [00:00<00:00, 196MB/s]\n",
            "mv: cannot stat '/content/deepfillv2_WGAN_G_epoch40_batchsize4.pth': No such file or directory\n"
          ]
        }
      ]
    },
    {
      "cell_type": "code",
      "execution_count": null,
      "metadata": {
        "colab": {
          "base_uri": "https://localhost:8080/"
        },
        "id": "uQ8myHc7iDuX",
        "outputId": "fecd9978-a36c-4bd5-a08c-d83df74057f9"
      },
      "outputs": [
        {
          "output_type": "stream",
          "name": "stdout",
          "text": [
            "Mounted at /content/drive\n"
          ]
        }
      ],
      "source": [
        "from google.colab import drive\n",
        "drive.mount('/content/drive', force_remount=True)"
      ]
    },
    {
      "cell_type": "code",
      "execution_count": null,
      "metadata": {
        "colab": {
          "base_uri": "https://localhost:8080/",
          "height": 35
        },
        "id": "rv_6PhJpived",
        "outputId": "3df98113-5489-47c8-e5b5-53d5e15d571b"
      },
      "outputs": [
        {
          "output_type": "execute_result",
          "data": {
            "text/plain": [
              "'/content/drive/MyDrive'"
            ],
            "application/vnd.google.colaboratory.intrinsic+json": {
              "type": "string"
            }
          },
          "metadata": {},
          "execution_count": 56
        }
      ],
      "source": [
        "import os\n",
        "os.getcwd()"
      ]
    },
    {
      "cell_type": "code",
      "execution_count": null,
      "metadata": {
        "colab": {
          "base_uri": "https://localhost:8080/"
        },
        "id": "BfzRC4ODi1yA",
        "outputId": "165e487c-e33b-444e-de60-196dfca76e83"
      },
      "outputs": [
        {
          "output_type": "stream",
          "name": "stdout",
          "text": [
            "[Errno 2] No such file or directory: 'drive/MyDrive'\n",
            "/content/drive/MyDrive\n"
          ]
        }
      ],
      "source": [
        "cd drive/MyDrive"
      ]
    },
    {
      "cell_type": "code",
      "execution_count": null,
      "metadata": {
        "id": "Y9ekyvOUoxBV",
        "colab": {
          "base_uri": "https://localhost:8080/"
        },
        "outputId": "9e625baa-5e78-4a43-db51-7e63b4be6217"
      },
      "outputs": [
        {
          "output_type": "stream",
          "name": "stdout",
          "text": [
            "Archive:  /content/drive/MyDrive/mask_wthe.zip\n",
            "  inflating: /content/drive/MyDrive/mask_wthe/mask_wthe/image_1.jpg  \n",
            "  inflating: /content/drive/MyDrive/mask_wthe/mask_wthe/image_113.jpeg  \n",
            "  inflating: /content/drive/MyDrive/mask_wthe/mask_wthe/image_116.jpeg  \n",
            "  inflating: /content/drive/MyDrive/mask_wthe/mask_wthe/image_34.jpg  \n",
            "  inflating: /content/drive/MyDrive/mask_wthe/mask_wthe/image_81.jpg  \n",
            "  inflating: /content/drive/MyDrive/mask_wthe/mask_wthe/image_82.jpg  \n"
          ]
        }
      ],
      "source": [
        "!unzip \"/content/drive/MyDrive/mask_wthe.zip\" -d \"/content/drive/MyDrive/mask_wthe\""
      ]
    },
    {
      "cell_type": "code",
      "execution_count": null,
      "metadata": {
        "colab": {
          "base_uri": "https://localhost:8080/"
        },
        "id": "ZXAXdrKg3UHq",
        "outputId": "1dbd9cee-cae0-4e91-ef5b-8260912fa7d5"
      },
      "outputs": [
        {
          "output_type": "stream",
          "name": "stdout",
          "text": [
            "/content/drive/MyDrive/deepfillv2_colab\n"
          ]
        }
      ],
      "source": [
        "cd deepfillv2_colab"
      ]
    },
    {
      "cell_type": "code",
      "execution_count": null,
      "metadata": {
        "colab": {
          "base_uri": "https://localhost:8080/"
        },
        "id": "qL_BehEt-9ZV",
        "outputId": "d3523c6b-4979-4963-823d-f9e8fa8aa1ca"
      },
      "outputs": [
        {
          "output_type": "stream",
          "name": "stdout",
          "text": [
            "Looking in indexes: https://pypi.org/simple, https://us-python.pkg.dev/colab-wheels/public/simple/\n",
            "Collecting keras_ocr\n",
            "  Downloading keras_ocr-0.9.2-py3-none-any.whl (42 kB)\n",
            "\u001b[2K     \u001b[90m━━━━━━━━━━━━━━━━━━━━━━━━━━━━━━━━━━━━━━━━\u001b[0m \u001b[32m42.3/42.3 KB\u001b[0m \u001b[31m3.6 MB/s\u001b[0m eta \u001b[36m0:00:00\u001b[0m\n",
            "\u001b[?25hRequirement already satisfied: imgaug in /usr/local/lib/python3.8/dist-packages (from keras_ocr) (0.4.0)\n",
            "Collecting fonttools\n",
            "  Downloading fonttools-4.38.0-py3-none-any.whl (965 kB)\n",
            "\u001b[2K     \u001b[90m━━━━━━━━━━━━━━━━━━━━━━━━━━━━━━━━━━━━━━\u001b[0m \u001b[32m965.4/965.4 KB\u001b[0m \u001b[31m29.9 MB/s\u001b[0m eta \u001b[36m0:00:00\u001b[0m\n",
            "\u001b[?25hCollecting pyclipper\n",
            "  Downloading pyclipper-1.3.0.post4-cp38-cp38-manylinux_2_5_x86_64.manylinux1_x86_64.whl (619 kB)\n",
            "\u001b[2K     \u001b[90m━━━━━━━━━━━━━━━━━━━━━━━━━━━━━━━━━━━━━━\u001b[0m \u001b[32m619.2/619.2 KB\u001b[0m \u001b[31m60.5 MB/s\u001b[0m eta \u001b[36m0:00:00\u001b[0m\n",
            "\u001b[?25hRequirement already satisfied: tqdm in /usr/local/lib/python3.8/dist-packages (from keras_ocr) (4.64.1)\n",
            "Requirement already satisfied: shapely in /usr/local/lib/python3.8/dist-packages (from keras_ocr) (2.0.0)\n",
            "Requirement already satisfied: editdistance in /usr/local/lib/python3.8/dist-packages (from keras_ocr) (0.5.3)\n",
            "Collecting efficientnet==1.0.0\n",
            "  Downloading efficientnet-1.0.0-py3-none-any.whl (17 kB)\n",
            "Collecting essential_generators\n",
            "  Downloading essential_generators-1.0-py3-none-any.whl (9.5 MB)\n",
            "\u001b[2K     \u001b[90m━━━━━━━━━━━━━━━━━━━━━━━━━━━━━━━━━━━━━━━━\u001b[0m \u001b[32m9.5/9.5 MB\u001b[0m \u001b[31m98.7 MB/s\u001b[0m eta \u001b[36m0:00:00\u001b[0m\n",
            "\u001b[?25hCollecting validators\n",
            "  Downloading validators-0.20.0.tar.gz (30 kB)\n",
            "  Preparing metadata (setup.py) ... \u001b[?25l\u001b[?25hdone\n",
            "Requirement already satisfied: scikit-image in /usr/local/lib/python3.8/dist-packages (from efficientnet==1.0.0->keras_ocr) (0.18.3)\n",
            "Collecting keras-applications<=1.0.8,>=1.0.7\n",
            "  Downloading Keras_Applications-1.0.8-py3-none-any.whl (50 kB)\n",
            "\u001b[2K     \u001b[90m━━━━━━━━━━━━━━━━━━━━━━━━━━━━━━━━━━━━━━━━\u001b[0m \u001b[32m50.7/50.7 KB\u001b[0m \u001b[31m8.0 MB/s\u001b[0m eta \u001b[36m0:00:00\u001b[0m\n",
            "\u001b[?25hRequirement already satisfied: imageio in /usr/local/lib/python3.8/dist-packages (from imgaug->keras_ocr) (2.9.0)\n",
            "Requirement already satisfied: numpy>=1.15 in /usr/local/lib/python3.8/dist-packages (from imgaug->keras_ocr) (1.21.6)\n",
            "Requirement already satisfied: six in /usr/local/lib/python3.8/dist-packages (from imgaug->keras_ocr) (1.15.0)\n",
            "Requirement already satisfied: matplotlib in /usr/local/lib/python3.8/dist-packages (from imgaug->keras_ocr) (3.2.2)\n",
            "Requirement already satisfied: Pillow in /usr/local/lib/python3.8/dist-packages (from imgaug->keras_ocr) (7.1.2)\n",
            "Requirement already satisfied: opencv-python in /usr/local/lib/python3.8/dist-packages (from imgaug->keras_ocr) (4.6.0.66)\n",
            "Requirement already satisfied: scipy in /usr/local/lib/python3.8/dist-packages (from imgaug->keras_ocr) (1.7.3)\n",
            "Requirement already satisfied: decorator>=3.4.0 in /usr/local/lib/python3.8/dist-packages (from validators->keras_ocr) (4.4.2)\n",
            "Requirement already satisfied: h5py in /usr/local/lib/python3.8/dist-packages (from keras-applications<=1.0.8,>=1.0.7->efficientnet==1.0.0->keras_ocr) (3.1.0)\n",
            "Requirement already satisfied: networkx>=2.0 in /usr/local/lib/python3.8/dist-packages (from scikit-image->efficientnet==1.0.0->keras_ocr) (3.0)\n",
            "Requirement already satisfied: PyWavelets>=1.1.1 in /usr/local/lib/python3.8/dist-packages (from scikit-image->efficientnet==1.0.0->keras_ocr) (1.4.1)\n",
            "Requirement already satisfied: tifffile>=2019.7.26 in /usr/local/lib/python3.8/dist-packages (from scikit-image->efficientnet==1.0.0->keras_ocr) (2022.10.10)\n",
            "Requirement already satisfied: python-dateutil>=2.1 in /usr/local/lib/python3.8/dist-packages (from matplotlib->imgaug->keras_ocr) (2.8.2)\n",
            "Requirement already satisfied: pyparsing!=2.0.4,!=2.1.2,!=2.1.6,>=2.0.1 in /usr/local/lib/python3.8/dist-packages (from matplotlib->imgaug->keras_ocr) (3.0.9)\n",
            "Requirement already satisfied: cycler>=0.10 in /usr/local/lib/python3.8/dist-packages (from matplotlib->imgaug->keras_ocr) (0.11.0)\n",
            "Requirement already satisfied: kiwisolver>=1.0.1 in /usr/local/lib/python3.8/dist-packages (from matplotlib->imgaug->keras_ocr) (1.4.4)\n",
            "Building wheels for collected packages: validators\n",
            "  Building wheel for validators (setup.py) ... \u001b[?25l\u001b[?25hdone\n",
            "  Created wheel for validators: filename=validators-0.20.0-py3-none-any.whl size=19581 sha256=94d9b0af63f342043954a73e9fe8f970155c01208a66e30bef328d8bec6acde9\n",
            "  Stored in directory: /root/.cache/pip/wheels/19/09/72/3eb74d236bb48bd0f3c6c3c83e4e0c5bbfcbcad7c6c3539db8\n",
            "Successfully built validators\n",
            "Installing collected packages: pyclipper, essential_generators, validators, fonttools, keras-applications, efficientnet, keras_ocr\n",
            "Successfully installed efficientnet-1.0.0 essential_generators-1.0 fonttools-4.38.0 keras-applications-1.0.8 keras_ocr-0.9.2 pyclipper-1.3.0.post4 validators-0.20.0\n"
          ]
        }
      ],
      "source": [
        "!pip install keras_ocr\n",
        "import keras_ocr\n",
        "import cv2\n",
        "import math\n",
        "import numpy as np\n",
        "import os\n",
        "from PIL import Image\n",
        "from google.colab.patches import cv2_imshow\n",
        "\n",
        "\n",
        "def midpoint(x1, y1, x2, y2):\n",
        "    x_mid = int((x1 + x2)/2)\n",
        "    y_mid = int((y1 + y2)/2)\n",
        "    return (x_mid, y_mid)\n",
        "    \n",
        "def create_mask(img_path):\n",
        "    # read image\n",
        "    img = keras_ocr.tools.read(img_path)\n",
        "    pipeline= keras_ocr.pipeline.Pipeline()\n",
        "    prediction_groups = pipeline.recognize([img])\n",
        "    \n",
        "    mask = np.zeros(img.shape[:2], dtype=\"uint8\")\n",
        "    \n",
        "    for box in prediction_groups[0]:\n",
        "        x0, y0 = box[1][0]\n",
        "        x1, y1 = box[1][1] \n",
        "        x2, y2 = box[1][2]\n",
        "        x3, y3 = box[1][3] \n",
        "        \n",
        "        x_mid0, y_mid0 = midpoint(x1, y1, x2, y2)\n",
        "        x_mid1, y_mi1 = midpoint(x0, y0, x3, y3)\n",
        "        \n",
        "        thickness = int(math.sqrt( (x2 - x1)**2 + (y2 - y1)**2 ))\n",
        "        \n",
        "        cv2.line(mask, (x_mid0, y_mid0), (x_mid1, y_mi1), 255,    \n",
        "                 thickness)\n",
        "        \n",
        "                 \n",
        "    return(mask)\n",
        "\n"
      ]
    },
    {
      "cell_type": "code",
      "execution_count": null,
      "metadata": {
        "colab": {
          "base_uri": "https://localhost:8080/"
        },
        "id": "DIy4KEsksRLZ",
        "outputId": "0cdc9b2b-a6b9-4f0c-de84-e10395b1db54"
      },
      "outputs": [
        {
          "output_type": "stream",
          "name": "stdout",
          "text": [
            "Looking in indexes: https://pypi.org/simple, https://us-python.pkg.dev/colab-wheels/public/simple/\n",
            "\u001b[31mERROR: Could not find a version that satisfies the requirement opencv-python==4.1.2 (from versions: 3.4.0.14, 3.4.8.29, 3.4.9.31, 3.4.9.33, 3.4.10.35, 3.4.10.37, 3.4.11.39, 3.4.11.41, 3.4.11.43, 3.4.11.45, 3.4.13.47, 3.4.14.51, 3.4.14.53, 3.4.15.55, 3.4.16.57, 3.4.16.59, 3.4.17.61, 3.4.17.63, 3.4.18.65, 4.1.2.30, 4.2.0.32, 4.2.0.34, 4.3.0.36, 4.3.0.38, 4.4.0.40, 4.4.0.42, 4.4.0.44, 4.4.0.46, 4.5.1.48, 4.5.2.52, 4.5.2.54, 4.5.3.56, 4.5.4.58, 4.5.4.60, 4.5.5.62, 4.5.5.64, 4.6.0.66, 4.7.0.68)\u001b[0m\u001b[31m\n",
            "\u001b[0m\u001b[31mERROR: No matching distribution found for opencv-python==4.1.2\u001b[0m\u001b[31m\n",
            "\u001b[0m"
          ]
        }
      ],
      "source": [
        "!pip install opencv-python==4.1.2"
      ]
    },
    {
      "cell_type": "code",
      "execution_count": null,
      "metadata": {
        "colab": {
          "base_uri": "https://localhost:8080/"
        },
        "id": "cNIWAUuhrAns",
        "outputId": "ba6aa5e2-e755-4ae0-a47f-df2a90a25690"
      },
      "outputs": [
        {
          "output_type": "stream",
          "name": "stdout",
          "text": [
            "4.6.0\n"
          ]
        }
      ],
      "source": [
        "print(cv2.__version__)"
      ]
    },
    {
      "cell_type": "code",
      "execution_count": null,
      "metadata": {
        "colab": {
          "base_uri": "https://localhost:8080/"
        },
        "id": "XeJhboExwJuf",
        "outputId": "9cf2a3ad-ae85-4a6b-ffc9-d82371f3faea"
      },
      "outputs": [
        {
          "output_type": "stream",
          "name": "stdout",
          "text": [
            "1.21.6\n"
          ]
        }
      ],
      "source": [
        "print(np.__version__)"
      ]
    },
    {
      "cell_type": "code",
      "execution_count": null,
      "metadata": {
        "colab": {
          "base_uri": "https://localhost:8080/"
        },
        "id": "yIARcXf9xO2x",
        "outputId": "e0178c80-7d77-4547-c261-b9cf0586e43d"
      },
      "outputs": [
        {
          "output_type": "stream",
          "name": "stdout",
          "text": [
            "0.9.2\n"
          ]
        }
      ],
      "source": [
        "print(keras_ocr.__version__)"
      ]
    },
    {
      "cell_type": "code",
      "execution_count": null,
      "metadata": {
        "id": "C0myXYz9aATI"
      },
      "outputs": [],
      "source": [
        "def mask_input(file):\n",
        "  i = cv2.imread(file)\n",
        "  output = create_mask(i)\n",
        "  output = Image.fromarray(output)\n",
        "  output.save(\"/content/drive/MyDrive/mask_wis/\" + os.path.basename(file))"
      ]
    },
    {
      "cell_type": "code",
      "source": [
        "done_files = []\n",
        "for filename in os.listdir(\"/content/drive/MyDrive/mask_wis/\"):\n",
        "  done_files.append(filename)"
      ],
      "metadata": {
        "id": "xP4k13p0sMIe"
      },
      "execution_count": null,
      "outputs": []
    },
    {
      "cell_type": "code",
      "source": [
        "len(done_files)"
      ],
      "metadata": {
        "colab": {
          "base_uri": "https://localhost:8080/"
        },
        "id": "5pVqUE6htY1d",
        "outputId": "9a7916d0-3e41-492c-e4be-213369301e5f"
      },
      "execution_count": null,
      "outputs": [
        {
          "output_type": "execute_result",
          "data": {
            "text/plain": [
              "0"
            ]
          },
          "metadata": {},
          "execution_count": 66
        }
      ]
    },
    {
      "cell_type": "code",
      "execution_count": null,
      "metadata": {
        "id": "Kr7UeG5gsmfe",
        "colab": {
          "base_uri": "https://localhost:8080/"
        },
        "outputId": "8f799be7-fb14-421a-d818-c70bbe1cafcd"
      },
      "outputs": [
        {
          "output_type": "stream",
          "name": "stdout",
          "text": [
            "/content/drive/MyDrive/wis/image_81.jpg\n",
            "Looking for /root/.keras-ocr/craft_mlt_25k.h5\n",
            "Looking for /root/.keras-ocr/crnn_kurapan.h5\n",
            "1/1 [==============================] - 0s 382ms/step\n",
            "1/1 [==============================] - 2s 2s/step\n",
            "/content/drive/MyDrive/wis/image_82.jpg\n",
            "Looking for /root/.keras-ocr/craft_mlt_25k.h5\n",
            "Looking for /root/.keras-ocr/crnn_kurapan.h5\n",
            "1/1 [==============================] - 0s 403ms/step\n",
            "1/1 [==============================] - 2s 2s/step\n",
            "/content/drive/MyDrive/wis/image_34.jpg\n",
            "Looking for /root/.keras-ocr/craft_mlt_25k.h5\n",
            "Looking for /root/.keras-ocr/crnn_kurapan.h5\n",
            "1/1 [==============================] - 0s 390ms/step\n",
            "1/1 [==============================] - 1s 1s/step\n",
            "/content/drive/MyDrive/wis/image_1.jpg\n",
            "Looking for /root/.keras-ocr/craft_mlt_25k.h5\n",
            "Looking for /root/.keras-ocr/crnn_kurapan.h5\n",
            "1/1 [==============================] - 0s 402ms/step\n",
            "1/1 [==============================] - 2s 2s/step\n"
          ]
        }
      ],
      "source": [
        "import os\n",
        "def mask_all_input(input_folder):\n",
        "  for filename in os.listdir(input_folder):\n",
        "    f = os.path.join(input_folder, filename)\n",
        "    #print(f)\n",
        "    if(f[len(f)-1]=='g' and f[len(f)-2]=='p' and f[len(f)-3]=='j' and f[len(f)-4]=='.' and filename not in done_files):\n",
        "      print(f)\n",
        "      mask_input(f)\n",
        "      done_files.append(filename)\n",
        "    #mask_input(f)\n",
        "mask_all_input(\"/content/drive/MyDrive/wis\")"
      ]
    },
    {
      "cell_type": "code",
      "execution_count": null,
      "metadata": {
        "colab": {
          "base_uri": "https://localhost:8080/",
          "height": 35
        },
        "id": "3bq3ECMksyvI",
        "outputId": "e8fe9a97-b80f-4b2a-b334-2d7eb4f0c650"
      },
      "outputs": [
        {
          "output_type": "execute_result",
          "data": {
            "text/plain": [
              "'/content/drive/MyDrive/deepfillv2_colab'"
            ],
            "application/vnd.google.colaboratory.intrinsic+json": {
              "type": "string"
            }
          },
          "metadata": {},
          "execution_count": 25
        }
      ],
      "source": [
        "pwd"
      ]
    },
    {
      "cell_type": "code",
      "execution_count": null,
      "metadata": {
        "colab": {
          "base_uri": "https://localhost:8080/"
        },
        "id": "CJqeeiTElMlW",
        "outputId": "f74ecc50-7618-4923-ce1e-4b359ee97088"
      },
      "outputs": [
        {
          "output_type": "stream",
          "name": "stdout",
          "text": [
            "/content/drive/MyDrive\n"
          ]
        }
      ],
      "source": [
        "cd .."
      ]
    },
    {
      "cell_type": "code",
      "source": [
        "cd /content/drive/MyDrive/deepfillv2_colab"
      ],
      "metadata": {
        "colab": {
          "base_uri": "https://localhost:8080/"
        },
        "id": "9TCz9RBd1XLY",
        "outputId": "2aa6c00f-4eab-4964-ffc3-e1ef49566d55"
      },
      "execution_count": null,
      "outputs": [
        {
          "output_type": "stream",
          "name": "stdout",
          "text": [
            "/content/drive/MyDrive/deepfillv2_colab\n"
          ]
        }
      ]
    },
    {
      "cell_type": "code",
      "execution_count": null,
      "metadata": {
        "id": "fMzyT-yk_Sz8",
        "colab": {
          "base_uri": "https://localhost:8080/"
        },
        "outputId": "5429101a-a396-4c1c-cecb-db9ea3f8c58b"
      },
      "outputs": [
        {
          "output_type": "stream",
          "name": "stdout",
          "text": [
            "-- Generator is created! --\n",
            "-- Initialized generator with xavier type --\n",
            "-- INPAINT: Loading Pretrained Model --\n",
            "/usr/local/lib/python3.8/dist-packages/torch/utils/data/dataloader.py:554: UserWarning: This DataLoader will create 8 worker processes in total. Our suggested max number of worker in current system is 2, which is smaller than what this DataLoader is going to create. Please be aware that excessive worker creation might get DataLoader running slow or even freeze, lower the worker number to avoid potential slowness/freeze if necessary.\n",
            "  warnings.warn(_create_warning_msg(\n",
            "-- Inpainting is finished --\n",
            "-- Inpainting is finished --\n",
            "-- Inpainting is finished --\n",
            "-- Inpainting is finished --\n"
          ]
        }
      ],
      "source": [
        "#@title Run to trigger inpainting. { display-mode: \"form\" }\n",
        "!python inpaint.py"
      ]
    }
  ],
  "metadata": {
    "accelerator": "GPU",
    "colab": {
      "provenance": []
    },
    "kernelspec": {
      "display_name": "Python 3",
      "name": "python3"
    },
    "language_info": {
      "name": "python"
    }
  },
  "nbformat": 4,
  "nbformat_minor": 0
}